{
 "cells": [
  {
   "cell_type": "code",
   "execution_count": 1,
   "metadata": {},
   "outputs": [
    {
     "name": "stderr",
     "output_type": "stream",
     "text": [
      "[nltk_data] Downloading package stopwords to\n",
      "[nltk_data]     C:\\Users\\same\\AppData\\Roaming\\nltk_data...\n",
      "[nltk_data]   Package stopwords is already up-to-date!\n",
      "[nltk_data] Downloading package punkt to\n",
      "[nltk_data]     C:\\Users\\same\\AppData\\Roaming\\nltk_data...\n",
      "[nltk_data]   Package punkt is already up-to-date!\n"
     ]
    },
    {
     "data": {
      "text/plain": [
       "True"
      ]
     },
     "execution_count": 1,
     "metadata": {},
     "output_type": "execute_result"
    }
   ],
   "source": [
    "import urllib.request, urllib.error, urllib.parse\n",
    "import os, time, re, json, requests, string, random, concurrent.futures, csv, warnings, nltk\n",
    "import numpy as np \n",
    "import pandas as pd\n",
    "import seaborn as sns\n",
    "import matplotlib.pyplot as plt\n",
    "import matplotlib.colors as mcolors\n",
    "import plotly.graph_objects as go\n",
    "from tqdm import tqdm\n",
    "from PIL import Image\n",
    "from ast import literal_eval\n",
    "from pylab import plot, show\n",
    "from bs4 import BeautifulSoup\n",
    "from matplotlib.lines import Line2D\n",
    "from scipy import stats\n",
    "from scipy.sparse import csc_matrix\n",
    "from scipy.sparse.linalg import svds\n",
    "from scipy.cluster.vq import kmeans, vq\n",
    "import fastai\n",
    "from fastai.collab import *\n",
    "from fastai.tabular.all import *\n",
    "from nltk.corpus import wordnet, stopwords\n",
    "from nltk.tokenize import RegexpTokenizer, word_tokenize\n",
    "from nltk.stem.snowball import SnowballStemmer\n",
    "from nltk.stem.wordnet import WordNetLemmatizer\n",
    "from sklearn.cluster import KMeans\n",
    "from sklearn.preprocessing import MinMaxScaler\n",
    "from sklearn.linear_model import LinearRegression\n",
    "from sklearn.model_selection import train_test_split\n",
    "from sklearn import neighbors, metrics, preprocessing\n",
    "from sklearn.metrics.pairwise import linear_kernel, cosine_similarity\n",
    "from sklearn.feature_extraction.text import TfidfVectorizer, CountVectorizer\n",
    "from surprise.model_selection import cross_validate, train_test_split, KFold\n",
    "from surprise import Reader, Dataset, SVD, KNNBasic, BaselineOnly, NormalPredictor, accuracy, dump\n",
    "pd.set_option('display.max_columns', None)\n",
    "warnings.filterwarnings(\"ignore\")\n",
    "plt.style.use('ggplot')\n",
    "nltk.download('stopwords')\n",
    "nltk.download('punkt')"
   ]
  },
  {
   "cell_type": "markdown",
   "metadata": {},
   "source": [
    "## reading books"
   ]
  },
  {
   "cell_type": "code",
   "execution_count": 58,
   "metadata": {},
   "outputs": [
    {
     "name": "stderr",
     "output_type": "stream",
     "text": [
      "10000it [00:01, 9671.03it/s]\n"
     ]
    },
    {
     "data": {
      "text/html": [
       "<div>\n",
       "<style scoped>\n",
       "    .dataframe tbody tr th:only-of-type {\n",
       "        vertical-align: middle;\n",
       "    }\n",
       "\n",
       "    .dataframe tbody tr th {\n",
       "        vertical-align: top;\n",
       "    }\n",
       "\n",
       "    .dataframe thead th {\n",
       "        text-align: right;\n",
       "    }\n",
       "</style>\n",
       "<table border=\"1\" class=\"dataframe\">\n",
       "  <thead>\n",
       "    <tr style=\"text-align: right;\">\n",
       "      <th></th>\n",
       "      <th>id</th>\n",
       "      <th>book_id</th>\n",
       "      <th>best_book_id</th>\n",
       "      <th>work_id</th>\n",
       "      <th>books_count</th>\n",
       "      <th>isbn</th>\n",
       "      <th>isbn13</th>\n",
       "      <th>authors</th>\n",
       "      <th>original_publication_year</th>\n",
       "      <th>original_title</th>\n",
       "      <th>...</th>\n",
       "      <th>ratings_count</th>\n",
       "      <th>work_ratings_count</th>\n",
       "      <th>work_text_reviews_count</th>\n",
       "      <th>ratings_1</th>\n",
       "      <th>ratings_2</th>\n",
       "      <th>ratings_3</th>\n",
       "      <th>ratings_4</th>\n",
       "      <th>ratings_5</th>\n",
       "      <th>image_url</th>\n",
       "      <th>small_image_url</th>\n",
       "    </tr>\n",
       "  </thead>\n",
       "  <tbody>\n",
       "    <tr>\n",
       "      <th>0</th>\n",
       "      <td>1</td>\n",
       "      <td>2767052</td>\n",
       "      <td>2767052</td>\n",
       "      <td>2792775</td>\n",
       "      <td>272</td>\n",
       "      <td>439023483</td>\n",
       "      <td>9.780439e+12</td>\n",
       "      <td>Suzanne Collins</td>\n",
       "      <td>2008.0</td>\n",
       "      <td>The Hunger Games</td>\n",
       "      <td>...</td>\n",
       "      <td>4780653</td>\n",
       "      <td>4942365</td>\n",
       "      <td>155254</td>\n",
       "      <td>66715</td>\n",
       "      <td>127936</td>\n",
       "      <td>560092</td>\n",
       "      <td>1481305</td>\n",
       "      <td>2706317</td>\n",
       "      <td>https://images.gr-assets.com/books/1447303603m...</td>\n",
       "      <td>https://images.gr-assets.com/books/1447303603s...</td>\n",
       "    </tr>\n",
       "    <tr>\n",
       "      <th>1</th>\n",
       "      <td>2</td>\n",
       "      <td>3</td>\n",
       "      <td>3</td>\n",
       "      <td>4640799</td>\n",
       "      <td>491</td>\n",
       "      <td>439554934</td>\n",
       "      <td>9.780440e+12</td>\n",
       "      <td>J.K. Rowling, Mary GrandPré</td>\n",
       "      <td>1997.0</td>\n",
       "      <td>Harry Potter and the Philosopher's Stone</td>\n",
       "      <td>...</td>\n",
       "      <td>4602479</td>\n",
       "      <td>4800065</td>\n",
       "      <td>75867</td>\n",
       "      <td>75504</td>\n",
       "      <td>101676</td>\n",
       "      <td>455024</td>\n",
       "      <td>1156318</td>\n",
       "      <td>3011543</td>\n",
       "      <td>https://images.gr-assets.com/books/1474154022m...</td>\n",
       "      <td>https://images.gr-assets.com/books/1474154022s...</td>\n",
       "    </tr>\n",
       "  </tbody>\n",
       "</table>\n",
       "<p>2 rows × 23 columns</p>\n",
       "</div>"
      ],
      "text/plain": [
       "   id  book_id  best_book_id  work_id  books_count       isbn        isbn13  \\\n",
       "0   1  2767052       2767052  2792775          272  439023483  9.780439e+12   \n",
       "1   2        3             3  4640799          491  439554934  9.780440e+12   \n",
       "\n",
       "                       authors  original_publication_year  \\\n",
       "0              Suzanne Collins                     2008.0   \n",
       "1  J.K. Rowling, Mary GrandPré                     1997.0   \n",
       "\n",
       "                             original_title  ... ratings_count  \\\n",
       "0                          The Hunger Games  ...       4780653   \n",
       "1  Harry Potter and the Philosopher's Stone  ...       4602479   \n",
       "\n",
       "  work_ratings_count  work_text_reviews_count  ratings_1  ratings_2  \\\n",
       "0            4942365                   155254      66715     127936   \n",
       "1            4800065                    75867      75504     101676   \n",
       "\n",
       "   ratings_3  ratings_4  ratings_5  \\\n",
       "0     560092    1481305    2706317   \n",
       "1     455024    1156318    3011543   \n",
       "\n",
       "                                           image_url  \\\n",
       "0  https://images.gr-assets.com/books/1447303603m...   \n",
       "1  https://images.gr-assets.com/books/1474154022m...   \n",
       "\n",
       "                                     small_image_url  \n",
       "0  https://images.gr-assets.com/books/1447303603s...  \n",
       "1  https://images.gr-assets.com/books/1474154022s...  \n",
       "\n",
       "[2 rows x 23 columns]"
      ]
     },
     "execution_count": 58,
     "metadata": {},
     "output_type": "execute_result"
    }
   ],
   "source": [
    "# dataset: https://www.kaggle.com/zygmunt/goodbooks-10k --> licence: CC BY-SA 4.0\n",
    "books = pd.read_csv('datasets-books/dataset-goodbooks-10k/books.csv')\n",
    "\n",
    "def prepare(x):\n",
    "    x = str(x)\n",
    "    x = x.replace(\"&\", \"and\")\n",
    "    return x.strip()\n",
    "\n",
    "books[\"title\"] = books[\"title\"].apply(prepare)\n",
    "books[\"original_title\"] = books[\"original_title\"].apply(prepare)\n",
    "\n",
    "new_titles = []\n",
    "for index_book, row_book in tqdm(books.iterrows()):\n",
    "    if len(row_book['original_title']) < len(row_book['title']):\n",
    "        new_titles.append(row_book['original_title'])\n",
    "    else:\n",
    "        new_titles.append(row_book['title'])\n",
    "\n",
    "books[\"title\"] = new_titles\n",
    "\n",
    "books.head(2)"
   ]
  },
  {
   "cell_type": "code",
   "execution_count": 59,
   "metadata": {},
   "outputs": [
    {
     "data": {
      "text/html": [
       "<div>\n",
       "<style scoped>\n",
       "    .dataframe tbody tr th:only-of-type {\n",
       "        vertical-align: middle;\n",
       "    }\n",
       "\n",
       "    .dataframe tbody tr th {\n",
       "        vertical-align: top;\n",
       "    }\n",
       "\n",
       "    .dataframe thead th {\n",
       "        text-align: right;\n",
       "    }\n",
       "</style>\n",
       "<table border=\"1\" class=\"dataframe\">\n",
       "  <thead>\n",
       "    <tr style=\"text-align: right;\">\n",
       "      <th></th>\n",
       "      <th>title</th>\n",
       "      <th>description</th>\n",
       "      <th>categories</th>\n",
       "    </tr>\n",
       "  </thead>\n",
       "  <tbody>\n",
       "    <tr>\n",
       "      <th>0</th>\n",
       "      <td>Gilead</td>\n",
       "      <td>A NOVEL THAT READERS and critics have been eag...</td>\n",
       "      <td>Fiction</td>\n",
       "    </tr>\n",
       "    <tr>\n",
       "      <th>1</th>\n",
       "      <td>Spider's Web</td>\n",
       "      <td>A new 'Christie for Christmas' -- a full-lengt...</td>\n",
       "      <td>Detective and mystery stories</td>\n",
       "    </tr>\n",
       "  </tbody>\n",
       "</table>\n",
       "</div>"
      ],
      "text/plain": [
       "          title                                        description  \\\n",
       "0        Gilead  A NOVEL THAT READERS and critics have been eag...   \n",
       "1  Spider's Web  A new 'Christie for Christmas' -- a full-lengt...   \n",
       "\n",
       "                      categories  \n",
       "0                        Fiction  \n",
       "1  Detective and mystery stories  "
      ]
     },
     "execution_count": 59,
     "metadata": {},
     "output_type": "execute_result"
    }
   ],
   "source": [
    "# dataset: https://www.kaggle.com/dylanjcastillo/7k-books-with-metadata --> license: CC0: Public Domain\n",
    "books_7k = pd.read_csv(\"datasets-books/dataset-7k-books/books.csv\")\n",
    "books_7k = books_7k[[\"title\", \"description\", \"categories\"]]\n",
    "books_7k.head(2)"
   ]
  },
  {
   "cell_type": "code",
   "execution_count": 60,
   "metadata": {},
   "outputs": [
    {
     "data": {
      "text/html": [
       "<div>\n",
       "<style scoped>\n",
       "    .dataframe tbody tr th:only-of-type {\n",
       "        vertical-align: middle;\n",
       "    }\n",
       "\n",
       "    .dataframe tbody tr th {\n",
       "        vertical-align: top;\n",
       "    }\n",
       "\n",
       "    .dataframe thead th {\n",
       "        text-align: right;\n",
       "    }\n",
       "</style>\n",
       "<table border=\"1\" class=\"dataframe\">\n",
       "  <thead>\n",
       "    <tr style=\"text-align: right;\">\n",
       "      <th></th>\n",
       "      <th>title</th>\n",
       "      <th>description</th>\n",
       "    </tr>\n",
       "  </thead>\n",
       "  <tbody>\n",
       "    <tr>\n",
       "      <th>0</th>\n",
       "      <td>Decision in Normandy</td>\n",
       "      <td>Here, for the first time in paperback, is an o...</td>\n",
       "    </tr>\n",
       "    <tr>\n",
       "      <th>1</th>\n",
       "      <td>Flu: The Story of the Great Influenza Pandemic...</td>\n",
       "      <td>The fascinating, true story of the world's dea...</td>\n",
       "    </tr>\n",
       "  </tbody>\n",
       "</table>\n",
       "</div>"
      ],
      "text/plain": [
       "                                               title  \\\n",
       "0                               Decision in Normandy   \n",
       "1  Flu: The Story of the Great Influenza Pandemic...   \n",
       "\n",
       "                                         description  \n",
       "0  Here, for the first time in paperback, is an o...  \n",
       "1  The fascinating, true story of the world's dea...  "
      ]
     },
     "execution_count": 60,
     "metadata": {},
     "output_type": "execute_result"
    }
   ],
   "source": [
    "# https://www.kaggle.com/jdobrow/57000-books-with-metadata-and-blurbs --> licence: ?\n",
    "books_57k = pd.read_csv(\"datasets-books/dataset-57k-books/books_with_blurbs.csv\")\n",
    "books_57k = books_57k[[\"Title\", \"Blurb\"]]\n",
    "books_57k = books_57k.rename(columns={'Title': 'title', \"Blurb\": \"description\"})\n",
    "books_57k.head(2)"
   ]
  },
  {
   "cell_type": "code",
   "execution_count": 61,
   "metadata": {},
   "outputs": [
    {
     "name": "stderr",
     "output_type": "stream",
     "text": [
      "56009it [01:56, 482.60it/s]\n"
     ]
    },
    {
     "data": {
      "text/html": [
       "<div>\n",
       "<style scoped>\n",
       "    .dataframe tbody tr th:only-of-type {\n",
       "        vertical-align: middle;\n",
       "    }\n",
       "\n",
       "    .dataframe tbody tr th {\n",
       "        vertical-align: top;\n",
       "    }\n",
       "\n",
       "    .dataframe thead th {\n",
       "        text-align: right;\n",
       "    }\n",
       "</style>\n",
       "<table border=\"1\" class=\"dataframe\">\n",
       "  <thead>\n",
       "    <tr style=\"text-align: right;\">\n",
       "      <th></th>\n",
       "      <th>title</th>\n",
       "      <th>description</th>\n",
       "      <th>categories</th>\n",
       "    </tr>\n",
       "  </thead>\n",
       "  <tbody>\n",
       "    <tr>\n",
       "      <th>0</th>\n",
       "      <td>1984</td>\n",
       "      <td>Renowned urban artist Shepard Fairey's new loo...</td>\n",
       "      <td>Contemporary Fiction, Classic Books &amp; Novels, ...</td>\n",
       "    </tr>\n",
       "    <tr>\n",
       "      <th>1</th>\n",
       "      <td>100 Deadly Skills: Survival Edition : The SEAL...</td>\n",
       "      <td>These 100 skills, adapted for civilians from a...</td>\n",
       "      <td>Encyclopaedias &amp; Reference Works, Reference Wo...</td>\n",
       "    </tr>\n",
       "  </tbody>\n",
       "</table>\n",
       "</div>"
      ],
      "text/plain": [
       "                                               title  \\\n",
       "0                                               1984   \n",
       "1  100 Deadly Skills: Survival Edition : The SEAL...   \n",
       "\n",
       "                                         description  \\\n",
       "0  Renowned urban artist Shepard Fairey's new loo...   \n",
       "1  These 100 skills, adapted for civilians from a...   \n",
       "\n",
       "                                          categories  \n",
       "0  Contemporary Fiction, Classic Books & Novels, ...  \n",
       "1  Encyclopaedias & Reference Works, Reference Wo...  "
      ]
     },
     "execution_count": 61,
     "metadata": {},
     "output_type": "execute_result"
    }
   ],
   "source": [
    "# dataset: https://www.kaggle.com/sp1thas/book-depository-dataset --> licence: CC BY-NC-SA 4.0\n",
    "book_depository = pd.read_csv(\"datasets-books/dataset-book-depository/dataset.csv\")\n",
    "book_depository_categories = pd.read_csv(\"datasets-books/dataset-book-depository/categories.csv\")\n",
    "category_list = []\n",
    "for book, row in tqdm(book_depository.iterrows()):\n",
    "    c_list = literal_eval(row[\"categories\"])\n",
    "    c_book = []\n",
    "    for c in c_list:\n",
    "        get_c = book_depository_categories[book_depository_categories[\"category_id\"] == c][\"category_name\"].item()\n",
    "        c_book.append(get_c)\n",
    "    category_list.append(c_book)\n",
    "\n",
    "book_depository[\"categories\"] = category_list\n",
    "book_depository[\"categories\"] = book_depository[\"categories\"].apply(lambda x: ', '.join(x))\n",
    "book_depository = book_depository[[\"title\", \"description\", \"categories\"]]\n",
    "book_depository.head(2)"
   ]
  },
  {
   "cell_type": "code",
   "execution_count": 62,
   "metadata": {},
   "outputs": [
    {
     "data": {
      "text/html": [
       "<div>\n",
       "<style scoped>\n",
       "    .dataframe tbody tr th:only-of-type {\n",
       "        vertical-align: middle;\n",
       "    }\n",
       "\n",
       "    .dataframe tbody tr th {\n",
       "        vertical-align: top;\n",
       "    }\n",
       "\n",
       "    .dataframe thead th {\n",
       "        text-align: right;\n",
       "    }\n",
       "</style>\n",
       "<table border=\"1\" class=\"dataframe\">\n",
       "  <thead>\n",
       "    <tr style=\"text-align: right;\">\n",
       "      <th></th>\n",
       "      <th>title</th>\n",
       "      <th>description</th>\n",
       "      <th>categories</th>\n",
       "    </tr>\n",
       "  </thead>\n",
       "  <tbody>\n",
       "    <tr>\n",
       "      <th>0</th>\n",
       "      <td>The Great Alone</td>\n",
       "      <td>Alaska, 1974.Unpredictable. Unforgiving. Untam...</td>\n",
       "      <td>Fiction, Historical, Historical Fiction, Audio...</td>\n",
       "    </tr>\n",
       "    <tr>\n",
       "      <th>1</th>\n",
       "      <td>Circe</td>\n",
       "      <td>In the house of Helios, god of the sun and mig...</td>\n",
       "      <td>Fantasy, Fiction, Fantasy, Mythology, Historic...</td>\n",
       "    </tr>\n",
       "  </tbody>\n",
       "</table>\n",
       "</div>"
      ],
      "text/plain": [
       "             title                                        description  \\\n",
       "0  The Great Alone  Alaska, 1974.Unpredictable. Unforgiving. Untam...   \n",
       "1            Circe  In the house of Helios, god of the sun and mig...   \n",
       "\n",
       "                                          categories  \n",
       "0  Fiction, Historical, Historical Fiction, Audio...  \n",
       "1  Fantasy, Fiction, Fantasy, Mythology, Historic...  "
      ]
     },
     "execution_count": 62,
     "metadata": {},
     "output_type": "execute_result"
    }
   ],
   "source": [
    "# dataset: https://www.kaggle.com/meetnaren/goodreads-best-books --> licence: ?\n",
    "books_2018_best = pd.read_csv(\"datasets-books/dataset-goodreads-2018-best-books/book_data.csv\")\n",
    "def prepare(x):\n",
    "    x = str(x)\n",
    "    x = x.replace('|', \", \")\n",
    "    return x\n",
    "books_2018_best[\"genres\"] = books_2018_best[\"genres\"].apply(prepare)\n",
    "books_2018_best = books_2018_best[[\"book_title\", \"book_desc\", \"genres\"]]\n",
    "books_2018_best = books_2018_best.rename(columns={'book_title': 'title', \"book_desc\": \"description\", \"genres\": \"categories\"})\n",
    "books_2018_best.head(2)"
   ]
  },
  {
   "cell_type": "code",
   "execution_count": 63,
   "metadata": {},
   "outputs": [
    {
     "data": {
      "text/html": [
       "<div>\n",
       "<style scoped>\n",
       "    .dataframe tbody tr th:only-of-type {\n",
       "        vertical-align: middle;\n",
       "    }\n",
       "\n",
       "    .dataframe tbody tr th {\n",
       "        vertical-align: top;\n",
       "    }\n",
       "\n",
       "    .dataframe thead th {\n",
       "        text-align: right;\n",
       "    }\n",
       "</style>\n",
       "<table border=\"1\" class=\"dataframe\">\n",
       "  <thead>\n",
       "    <tr style=\"text-align: right;\">\n",
       "      <th></th>\n",
       "      <th>title</th>\n",
       "      <th>description</th>\n",
       "      <th>categories</th>\n",
       "    </tr>\n",
       "  </thead>\n",
       "  <tbody>\n",
       "    <tr>\n",
       "      <th>0</th>\n",
       "      <td>Inner Circle</td>\n",
       "      <td>Reed Brennan arrived at Easton Academy expecti...</td>\n",
       "      <td>Young Adult, Mystery, Romance</td>\n",
       "    </tr>\n",
       "    <tr>\n",
       "      <th>1</th>\n",
       "      <td>A Time to Embrace</td>\n",
       "      <td>Ideje az Ã¶lelÃ©snek TÃ¶rtÃ©net a remÃ©nyrÅl,...</td>\n",
       "      <td>Christian Fiction, Christian, Fiction, Romance</td>\n",
       "    </tr>\n",
       "  </tbody>\n",
       "</table>\n",
       "</div>"
      ],
      "text/plain": [
       "               title                                        description  \\\n",
       "0       Inner Circle  Reed Brennan arrived at Easton Academy expecti...   \n",
       "1  A Time to Embrace  Ideje az Ã¶lelÃ©snek TÃ¶rtÃ©net a remÃ©nyrÅl,...   \n",
       "\n",
       "                                       categories  \n",
       "0                   Young Adult, Mystery, Romance  \n",
       "1  Christian Fiction, Christian, Fiction, Romance  "
      ]
     },
     "execution_count": 63,
     "metadata": {},
     "output_type": "execute_result"
    }
   ],
   "source": [
    "# dataset: https://www.kaggle.com/austinreese/goodreads-books --> licence: CC0: Public Domain\n",
    "books_31_feat = pd.read_csv(\"datasets-books/dataset-goodreads-books-31-features/goodreads_books.csv\")\n",
    "def prepare(x):\n",
    "    x = str(x)\n",
    "    return re.sub('\\s*[0-9]', '', x)\n",
    "books_31_feat[\"genre_and_votes\"] = books_31_feat[\"genre_and_votes\"].apply(prepare)\n",
    "books_31_feat = books_31_feat[[\"title\", \"description\", \"genre_and_votes\"]]\n",
    "books_31_feat = books_31_feat.rename(columns={\"genre_and_votes\": \"categories\"})\n",
    "books_31_feat.head(2)"
   ]
  },
  {
   "cell_type": "code",
   "execution_count": 64,
   "metadata": {},
   "outputs": [
    {
     "data": {
      "text/html": [
       "<div>\n",
       "<style scoped>\n",
       "    .dataframe tbody tr th:only-of-type {\n",
       "        vertical-align: middle;\n",
       "    }\n",
       "\n",
       "    .dataframe tbody tr th {\n",
       "        vertical-align: top;\n",
       "    }\n",
       "\n",
       "    .dataframe thead th {\n",
       "        text-align: right;\n",
       "    }\n",
       "</style>\n",
       "<table border=\"1\" class=\"dataframe\">\n",
       "  <thead>\n",
       "    <tr style=\"text-align: right;\">\n",
       "      <th></th>\n",
       "      <th>title</th>\n",
       "      <th>description</th>\n",
       "      <th>categories</th>\n",
       "    </tr>\n",
       "  </thead>\n",
       "  <tbody>\n",
       "    <tr>\n",
       "      <th>0</th>\n",
       "      <td>Attack on Titan: Volume 13</td>\n",
       "      <td>NO SAFE PLACE LEFT At great cost to the Garris...</td>\n",
       "      <td>none</td>\n",
       "    </tr>\n",
       "    <tr>\n",
       "      <th>1</th>\n",
       "      <td>Antiques Roadkill: A Trash 'n' Treasures Mystery</td>\n",
       "      <td>Determined to make a new start in her quaint h...</td>\n",
       "      <td>Fiction , Mystery &amp;amp, Detective , Cozy , Gen...</td>\n",
       "    </tr>\n",
       "  </tbody>\n",
       "</table>\n",
       "</div>"
      ],
      "text/plain": [
       "                                              title  \\\n",
       "0                        Attack on Titan: Volume 13   \n",
       "1  Antiques Roadkill: A Trash 'n' Treasures Mystery   \n",
       "\n",
       "                                         description  \\\n",
       "0  NO SAFE PLACE LEFT At great cost to the Garris...   \n",
       "1  Determined to make a new start in her quaint h...   \n",
       "\n",
       "                                          categories  \n",
       "0                                               none  \n",
       "1  Fiction , Mystery &amp, Detective , Cozy , Gen...  "
      ]
     },
     "execution_count": 64,
     "metadata": {},
     "output_type": "execute_result"
    }
   ],
   "source": [
    "# dataset: https://www.kaggle.com/bilalyussef/google-books-dataset --> licence: google?\n",
    "books_google = pd.read_csv(\"datasets-books/dataset-google-books/google_books_1299.csv\")\n",
    "books_google = books_google[[\"title\", \"description\", \"generes\"]]\n",
    "books_google = books_google.rename(columns={\"generes\": \"categories\"})\n",
    "books_google.head(2)"
   ]
  },
  {
   "cell_type": "code",
   "execution_count": 65,
   "metadata": {},
   "outputs": [
    {
     "data": {
      "text/html": [
       "<div>\n",
       "<style scoped>\n",
       "    .dataframe tbody tr th:only-of-type {\n",
       "        vertical-align: middle;\n",
       "    }\n",
       "\n",
       "    .dataframe tbody tr th {\n",
       "        vertical-align: top;\n",
       "    }\n",
       "\n",
       "    .dataframe thead th {\n",
       "        text-align: right;\n",
       "    }\n",
       "</style>\n",
       "<table border=\"1\" class=\"dataframe\">\n",
       "  <thead>\n",
       "    <tr style=\"text-align: right;\">\n",
       "      <th></th>\n",
       "      <th>title</th>\n",
       "      <th>description</th>\n",
       "      <th>categories</th>\n",
       "    </tr>\n",
       "  </thead>\n",
       "  <tbody>\n",
       "    <tr>\n",
       "      <th>0</th>\n",
       "      <td>Animal Farm</td>\n",
       "      <td>Old Major, the old boar on the Manor Farm, ca...</td>\n",
       "      <td>Roman à clef Satire Children's literature Spec...</td>\n",
       "    </tr>\n",
       "    <tr>\n",
       "      <th>1</th>\n",
       "      <td>A Clockwork Orange</td>\n",
       "      <td>Alex, a teenager living in near-future Englan...</td>\n",
       "      <td>Science Fiction Novella Speculative fiction Ut...</td>\n",
       "    </tr>\n",
       "  </tbody>\n",
       "</table>\n",
       "</div>"
      ],
      "text/plain": [
       "                title                                        description  \\\n",
       "0         Animal Farm   Old Major, the old boar on the Manor Farm, ca...   \n",
       "1  A Clockwork Orange   Alex, a teenager living in near-future Englan...   \n",
       "\n",
       "                                          categories  \n",
       "0  Roman à clef Satire Children's literature Spec...  \n",
       "1  Science Fiction Novella Speculative fiction Ut...  "
      ]
     },
     "execution_count": 65,
     "metadata": {},
     "output_type": "execute_result"
    }
   ],
   "source": [
    "# dataset: https://www.kaggle.com/ymaricar/cmu-book-summary-dataset --> licence: CC BY-SA 3.0\n",
    "books_cmu = pd.read_csv(\"datasets-books/dataset-cmu-book-summary/booksummaries.csv\")\n",
    "books_cmu = books_cmu[[\"BookTitle\", \"Summary\", \"GenreString\"]]\n",
    "books_cmu = books_cmu.rename(columns={'BookTitle': 'title', \"Summary\": \"description\", \"GenreString\": \"categories\"})\n",
    "books_cmu.head(2)"
   ]
  },
  {
   "cell_type": "markdown",
   "metadata": {},
   "source": [
    "## merging"
   ]
  },
  {
   "cell_type": "code",
   "execution_count": 66,
   "metadata": {},
   "outputs": [
    {
     "name": "stdout",
     "output_type": "stream",
     "text": [
      "(0, 0) (4022, 0) (262, 99) (5, 0) (2575, 0) (3, 0) (0, 57510)\n",
      "(0, 0) (0, 0) (0, 0) (0, 0) (0, 0) (0, 0) (0, 57510)\n"
     ]
    }
   ],
   "source": [
    "def count_nan():\n",
    "    a = books_cmu[\"description\"].isna().sum(), books_cmu[\"categories\"].isna().sum()\n",
    "    b = book_depository[\"description\"].isna().sum(), book_depository[\"categories\"].isna().sum()\n",
    "    c = books_7k[\"description\"].isna().sum(), books_7k[\"categories\"].isna().sum()\n",
    "    d = books_2018_best[\"description\"].isna().sum(), books_2018_best[\"categories\"].isna().sum()\n",
    "    e = books_31_feat[\"description\"].isna().sum(), books_31_feat[\"categories\"].isna().sum()\n",
    "    f = books_google[\"description\"].isna().sum(), books_google[\"categories\"].isna().sum()\n",
    "    g = books_57k[\"description\"].isna().sum(), books_57k.shape[0]\n",
    "    print(a, b, c, d, e, f, g)\n",
    "\n",
    "count_nan()\n",
    "books_cmu = books_cmu.dropna()\n",
    "book_depository = book_depository.dropna()\n",
    "books_7k = books_7k.dropna()\n",
    "books_2018_best = books_2018_best.dropna()\n",
    "books_31_feat = books_31_feat.dropna()\n",
    "books_google = books_google.dropna()\n",
    "count_nan()"
   ]
  },
  {
   "cell_type": "code",
   "execution_count": 106,
   "metadata": {},
   "outputs": [
    {
     "data": {
      "text/html": [
       "<div>\n",
       "<style scoped>\n",
       "    .dataframe tbody tr th:only-of-type {\n",
       "        vertical-align: middle;\n",
       "    }\n",
       "\n",
       "    .dataframe tbody tr th {\n",
       "        vertical-align: top;\n",
       "    }\n",
       "\n",
       "    .dataframe thead th {\n",
       "        text-align: right;\n",
       "    }\n",
       "</style>\n",
       "<table border=\"1\" class=\"dataframe\">\n",
       "  <thead>\n",
       "    <tr style=\"text-align: right;\">\n",
       "      <th></th>\n",
       "      <th>title</th>\n",
       "      <th>description</th>\n",
       "      <th>categories</th>\n",
       "    </tr>\n",
       "  </thead>\n",
       "  <tbody>\n",
       "    <tr>\n",
       "      <th>0</th>\n",
       "      <td>Animal Farm</td>\n",
       "      <td>Old Major, the old boar on the Manor Farm, ca...</td>\n",
       "      <td>Roman à clef Satire Children's literature Spec...</td>\n",
       "    </tr>\n",
       "    <tr>\n",
       "      <th>1</th>\n",
       "      <td>A Clockwork Orange</td>\n",
       "      <td>Alex, a teenager living in near-future Englan...</td>\n",
       "      <td>Science Fiction Novella Speculative fiction Ut...</td>\n",
       "    </tr>\n",
       "    <tr>\n",
       "      <th>2</th>\n",
       "      <td>The Plague</td>\n",
       "      <td>The text of The Plague is divided into five p...</td>\n",
       "      <td>Existentialism Fiction Absurdist fiction Novel</td>\n",
       "    </tr>\n",
       "    <tr>\n",
       "      <th>3</th>\n",
       "      <td>A Fire Upon the Deep</td>\n",
       "      <td>The novel posits that space around the Milky ...</td>\n",
       "      <td>Hard science fiction Science Fiction Speculati...</td>\n",
       "    </tr>\n",
       "    <tr>\n",
       "      <th>4</th>\n",
       "      <td>All Quiet on the Western Front</td>\n",
       "      <td>The book tells the story of Paul Bäumer, a Ge...</td>\n",
       "      <td>War novel Roman à clef</td>\n",
       "    </tr>\n",
       "    <tr>\n",
       "      <th>...</th>\n",
       "      <td>...</td>\n",
       "      <td>...</td>\n",
       "      <td>...</td>\n",
       "    </tr>\n",
       "    <tr>\n",
       "      <th>57505</th>\n",
       "      <td>Tainted Trail</td>\n",
       "      <td>Ukiah Oregon, half-man and half-alien raised b...</td>\n",
       "      <td>NaN</td>\n",
       "    </tr>\n",
       "    <tr>\n",
       "      <th>57506</th>\n",
       "      <td>Twelve Mile Limit</td>\n",
       "      <td>On a Friday in early November, four people hea...</td>\n",
       "      <td>NaN</td>\n",
       "    </tr>\n",
       "    <tr>\n",
       "      <th>57507</th>\n",
       "      <td>The Man With the Red Tattoo (James Bond 007)</td>\n",
       "      <td>On a quiet late-night flight from Tokyo to Lon...</td>\n",
       "      <td>NaN</td>\n",
       "    </tr>\n",
       "    <tr>\n",
       "      <th>57508</th>\n",
       "      <td>Iron Fist (Star Wars: X-Wing Series, Book 6)</td>\n",
       "      <td>They are the Rebel Alliance's ultimate strike ...</td>\n",
       "      <td>NaN</td>\n",
       "    </tr>\n",
       "    <tr>\n",
       "      <th>57509</th>\n",
       "      <td>The Adventures of Lando Calrissian: Lando Calr...</td>\n",
       "      <td>For the price of one, you get three Lando Calr...</td>\n",
       "      <td>NaN</td>\n",
       "    </tr>\n",
       "  </tbody>\n",
       "</table>\n",
       "<p>180114 rows × 3 columns</p>\n",
       "</div>"
      ],
      "text/plain": [
       "                                                   title  \\\n",
       "0                                            Animal Farm   \n",
       "1                                     A Clockwork Orange   \n",
       "2                                             The Plague   \n",
       "3                                   A Fire Upon the Deep   \n",
       "4                         All Quiet on the Western Front   \n",
       "...                                                  ...   \n",
       "57505                                      Tainted Trail   \n",
       "57506                                  Twelve Mile Limit   \n",
       "57507       The Man With the Red Tattoo (James Bond 007)   \n",
       "57508       Iron Fist (Star Wars: X-Wing Series, Book 6)   \n",
       "57509  The Adventures of Lando Calrissian: Lando Calr...   \n",
       "\n",
       "                                             description  \\\n",
       "0       Old Major, the old boar on the Manor Farm, ca...   \n",
       "1       Alex, a teenager living in near-future Englan...   \n",
       "2       The text of The Plague is divided into five p...   \n",
       "3       The novel posits that space around the Milky ...   \n",
       "4       The book tells the story of Paul Bäumer, a Ge...   \n",
       "...                                                  ...   \n",
       "57505  Ukiah Oregon, half-man and half-alien raised b...   \n",
       "57506  On a Friday in early November, four people hea...   \n",
       "57507  On a quiet late-night flight from Tokyo to Lon...   \n",
       "57508  They are the Rebel Alliance's ultimate strike ...   \n",
       "57509  For the price of one, you get three Lando Calr...   \n",
       "\n",
       "                                              categories  \n",
       "0      Roman à clef Satire Children's literature Spec...  \n",
       "1      Science Fiction Novella Speculative fiction Ut...  \n",
       "2         Existentialism Fiction Absurdist fiction Novel  \n",
       "3      Hard science fiction Science Fiction Speculati...  \n",
       "4                                 War novel Roman à clef  \n",
       "...                                                  ...  \n",
       "57505                                                NaN  \n",
       "57506                                                NaN  \n",
       "57507                                                NaN  \n",
       "57508                                                NaN  \n",
       "57509                                                NaN  \n",
       "\n",
       "[180114 rows x 3 columns]"
      ]
     },
     "execution_count": 106,
     "metadata": {},
     "output_type": "execute_result"
    }
   ],
   "source": [
    "books_all = pd.concat([books_cmu, book_depository, books_7k, books_2018_best, books_31_feat, books_google, books_57k])\n",
    "books_all"
   ]
  },
  {
   "cell_type": "markdown",
   "metadata": {},
   "source": [
    "## concat all"
   ]
  },
  {
   "cell_type": "code",
   "execution_count": 231,
   "metadata": {},
   "outputs": [
    {
     "data": {
      "text/html": [
       "<div>\n",
       "<style scoped>\n",
       "    .dataframe tbody tr th:only-of-type {\n",
       "        vertical-align: middle;\n",
       "    }\n",
       "\n",
       "    .dataframe tbody tr th {\n",
       "        vertical-align: top;\n",
       "    }\n",
       "\n",
       "    .dataframe thead th {\n",
       "        text-align: right;\n",
       "    }\n",
       "</style>\n",
       "<table border=\"1\" class=\"dataframe\">\n",
       "  <thead>\n",
       "    <tr style=\"text-align: right;\">\n",
       "      <th></th>\n",
       "      <th>id</th>\n",
       "      <th>book_id</th>\n",
       "      <th>best_book_id</th>\n",
       "      <th>work_id</th>\n",
       "      <th>books_count</th>\n",
       "      <th>isbn</th>\n",
       "      <th>isbn13</th>\n",
       "      <th>authors</th>\n",
       "      <th>original_publication_year</th>\n",
       "      <th>original_title</th>\n",
       "      <th>...</th>\n",
       "      <th>work_text_reviews_count</th>\n",
       "      <th>ratings_1</th>\n",
       "      <th>ratings_2</th>\n",
       "      <th>ratings_3</th>\n",
       "      <th>ratings_4</th>\n",
       "      <th>ratings_5</th>\n",
       "      <th>image_url</th>\n",
       "      <th>small_image_url</th>\n",
       "      <th>description</th>\n",
       "      <th>categories</th>\n",
       "    </tr>\n",
       "  </thead>\n",
       "  <tbody>\n",
       "    <tr>\n",
       "      <th>0</th>\n",
       "      <td>1</td>\n",
       "      <td>2767052</td>\n",
       "      <td>2767052</td>\n",
       "      <td>2792775</td>\n",
       "      <td>272</td>\n",
       "      <td>439023483</td>\n",
       "      <td>9.780439e+12</td>\n",
       "      <td>Suzanne Collins</td>\n",
       "      <td>2008.0</td>\n",
       "      <td>The Hunger Games</td>\n",
       "      <td>...</td>\n",
       "      <td>155254</td>\n",
       "      <td>66715</td>\n",
       "      <td>127936</td>\n",
       "      <td>560092</td>\n",
       "      <td>1481305</td>\n",
       "      <td>2706317</td>\n",
       "      <td>https://images.gr-assets.com/books/1447303603m...</td>\n",
       "      <td>https://images.gr-assets.com/books/1447303603s...</td>\n",
       "      <td>The Hunger Games takes place in a nation know...</td>\n",
       "      <td>Science Fiction Adventure novel Alternate hist...</td>\n",
       "    </tr>\n",
       "    <tr>\n",
       "      <th>1</th>\n",
       "      <td>2</td>\n",
       "      <td>3</td>\n",
       "      <td>3</td>\n",
       "      <td>4640799</td>\n",
       "      <td>491</td>\n",
       "      <td>439554934</td>\n",
       "      <td>9.780440e+12</td>\n",
       "      <td>J.K. Rowling, Mary GrandPré</td>\n",
       "      <td>1997.0</td>\n",
       "      <td>Harry Potter and the Philosopher's Stone</td>\n",
       "      <td>...</td>\n",
       "      <td>75867</td>\n",
       "      <td>75504</td>\n",
       "      <td>101676</td>\n",
       "      <td>455024</td>\n",
       "      <td>1156318</td>\n",
       "      <td>3011543</td>\n",
       "      <td>https://images.gr-assets.com/books/1474154022m...</td>\n",
       "      <td>https://images.gr-assets.com/books/1474154022s...</td>\n",
       "      <td>Before the start of the novel, Voldemort, con...</td>\n",
       "      <td>Children's literature Fantasy Speculative fict...</td>\n",
       "    </tr>\n",
       "  </tbody>\n",
       "</table>\n",
       "<p>2 rows × 25 columns</p>\n",
       "</div>"
      ],
      "text/plain": [
       "   id  book_id  best_book_id  work_id  books_count       isbn        isbn13  \\\n",
       "0   1  2767052       2767052  2792775          272  439023483  9.780439e+12   \n",
       "1   2        3             3  4640799          491  439554934  9.780440e+12   \n",
       "\n",
       "                       authors  original_publication_year  \\\n",
       "0              Suzanne Collins                     2008.0   \n",
       "1  J.K. Rowling, Mary GrandPré                     1997.0   \n",
       "\n",
       "                             original_title  ... work_text_reviews_count  \\\n",
       "0                          The Hunger Games  ...                  155254   \n",
       "1  Harry Potter and the Philosopher's Stone  ...                   75867   \n",
       "\n",
       "  ratings_1  ratings_2  ratings_3  ratings_4  ratings_5  \\\n",
       "0     66715     127936     560092    1481305    2706317   \n",
       "1     75504     101676     455024    1156318    3011543   \n",
       "\n",
       "                                           image_url  \\\n",
       "0  https://images.gr-assets.com/books/1447303603m...   \n",
       "1  https://images.gr-assets.com/books/1474154022m...   \n",
       "\n",
       "                                     small_image_url  \\\n",
       "0  https://images.gr-assets.com/books/1447303603s...   \n",
       "1  https://images.gr-assets.com/books/1474154022s...   \n",
       "\n",
       "                                         description  \\\n",
       "0   The Hunger Games takes place in a nation know...   \n",
       "1   Before the start of the novel, Voldemort, con...   \n",
       "\n",
       "                                          categories  \n",
       "0  Science Fiction Adventure novel Alternate hist...  \n",
       "1  Children's literature Fantasy Speculative fict...  \n",
       "\n",
       "[2 rows x 25 columns]"
      ]
     },
     "execution_count": 231,
     "metadata": {},
     "output_type": "execute_result"
    }
   ],
   "source": [
    "books = pd.read_csv('datasets-books/dataset-goodbooks-10k/books.csv')\n",
    "\n",
    "def prepare(x):\n",
    "    x = str(x)\n",
    "    x = x.replace(\"&\", \"and\")\n",
    "    return x.strip()\n",
    "\n",
    "books[\"title\"] = books[\"title\"].apply(prepare)\n",
    "books[\"original_title\"] = books[\"original_title\"].apply(prepare)\n",
    "\n",
    "new_titles = []\n",
    "for index_book, row_book in tqdm(books.iterrows()):\n",
    "    if len(row_book['original_title']) < len(row_book['title']):\n",
    "        new_titles.append(row_book['original_title'])\n",
    "    else:\n",
    "        new_titles.append(row_book['title'])\n",
    "\n",
    "books[\"title\"] = new_titles\n",
    "\n",
    "books.head(2)\n",
    "\n",
    "books_summary_1 = books.merge(books_all, left_on='title', right_on='title', how='left')\n",
    "books_summary_2 = books.merge(books_all, left_on='title', right_on='title', how='inner')\n",
    "\n",
    "books_summary_1.head(2)"
   ]
  },
  {
   "cell_type": "markdown",
   "metadata": {},
   "source": [
    "# remove chars"
   ]
  },
  {
   "cell_type": "code",
   "execution_count": 77,
   "metadata": {},
   "outputs": [],
   "source": [
    "def non_ascii(x):\n",
    "    if type(x) == str:\n",
    "        x = x.replace('\\\"', '')\n",
    "        x = x.replace('\\\\', '')\n",
    "        x = x.replace(\"'\", '')\n",
    "        x = x.replace('\\n', '')\n",
    "        x = x.replace('\\r', '')\n",
    "        # x = x.replace('<', '')\n",
    "        # x = x.replace('>', '')\n",
    "        x = ''.join([i if ord(i) < 128 else ' ' for i in x])\n",
    "    return x\n",
    "\n",
    "def add_comma(x):\n",
    "    x = str(x)\n",
    "    if \",\" not in x:\n",
    "        x = x.replace(\"fiction\", \"fiction,\")\n",
    "        x = x.replace(\"literature\", \"literature,\")\n",
    "        x = x.replace(\"Fiction\", \"Fiction,\")\n",
    "        x = x.replace(\"novel\", \"novel,\")\n",
    "        x = x.replace(\"book\", \"book,\")\n",
    "        x = x.replace(\"history\", \"history,\")\n",
    "    return x\n",
    "        \n",
    "books_summary_end[\"categories\"] = books_summary_end[\"categories\"].apply(add_comma)\n",
    "books_summary_end = books_summary_end.applymap(non_ascii)"
   ]
  },
  {
   "cell_type": "markdown",
   "metadata": {},
   "source": [
    "# crawler"
   ]
  },
  {
   "cell_type": "code",
   "execution_count": null,
   "metadata": {},
   "outputs": [],
   "source": [
    "count1 = 0\n",
    "write_html = False\n",
    "skipped = []\n",
    "skipped_descr = []\n",
    "skipped_title = []\n",
    "skipped_genre = []\n",
    "for index, row in tqdm(books_summary_1.iterrows()):\n",
    "    if pd.isnull(books_summary_1.iloc[index][\"description\"]) or pd.isnull(books_summary_1.iloc[index][\"categories\"]):\n",
    "        url = \"https://www.goodreads.com/book/show/\" + str(row[\"book_id\"])\n",
    "        response = urllib.request.urlopen(url)\n",
    "        webContent = response.read()\n",
    "        if write_html:\n",
    "            with open(\"htmls/\" + str(index) + \"-\" + str(row[\"book_id\"]) + \".html\", 'wb') as f: # -> plus 2 seconds\n",
    "                f.write(webContent)\n",
    "                \n",
    "        source = BeautifulSoup(webContent, 'html.parser')\n",
    "        summary = source.find(\"div\", attrs={\"id\": \"description\"})\n",
    "        try:\n",
    "            summary = summary.find_all(\"span\")\n",
    "        except:\n",
    "            skipped.append((index, str(row[\"book_id\"])))\n",
    "        try:\n",
    "            summary = summary[1]\n",
    "        except:\n",
    "            try:\n",
    "                summary = summary[0]\n",
    "            except:\n",
    "                skipped_descr.append((index, str(row[\"book_id\"])))\n",
    "        try:\n",
    "            books_summary_1.at[index, \"description\"] = summary.text\n",
    "        except:\n",
    "            skipped_descr.append((index, str(row[\"book_id\"])))\n",
    "        \n",
    "        try:  \n",
    "            book_title = source.find(\"h1\", attrs={\"id\": \"bookTitle\"})\n",
    "            books_summary_1.at[index, \"title\"] = book_title.text.strip()\n",
    "        except:\n",
    "            skipped_title.append((index, str(row[\"book_id\"])))\n",
    "        \n",
    "        genre = source.find_all(\"a\", attrs={\"class\": \"actionLinkLite bookPageGenreLink\"}, href=True)\n",
    "        genres = \"\"\n",
    "        try:\n",
    "            genres += genre[0].text\n",
    "        except:\n",
    "            skipped_genre.append((index, str(row[\"book_id\"])))\n",
    "            pass\n",
    "        try:\n",
    "            genres += \", \" + genre[1].text\n",
    "        except:\n",
    "            pass\n",
    "        try:\n",
    "            genres += \", \" + genre[2].text\n",
    "        except:\n",
    "            pass\n",
    "        if genres != \"\":\n",
    "            books_summary_1.at[index, \"categories\"] = genres\n",
    "        time.sleep(0.5)\n",
    "\n",
    "print(\"continue:\", count1)"
   ]
  },
  {
   "cell_type": "code",
   "execution_count": 167,
   "metadata": {},
   "outputs": [
    {
     "data": {
      "text/html": [
       "<div>\n",
       "<style scoped>\n",
       "    .dataframe tbody tr th:only-of-type {\n",
       "        vertical-align: middle;\n",
       "    }\n",
       "\n",
       "    .dataframe tbody tr th {\n",
       "        vertical-align: top;\n",
       "    }\n",
       "\n",
       "    .dataframe thead th {\n",
       "        text-align: right;\n",
       "    }\n",
       "</style>\n",
       "<table border=\"1\" class=\"dataframe\">\n",
       "  <thead>\n",
       "    <tr style=\"text-align: right;\">\n",
       "      <th></th>\n",
       "      <th>title</th>\n",
       "      <th>authors</th>\n",
       "      <th>description</th>\n",
       "      <th>categories</th>\n",
       "    </tr>\n",
       "  </thead>\n",
       "  <tbody>\n",
       "    <tr>\n",
       "      <th>0</th>\n",
       "      <td>thehungergames</td>\n",
       "      <td>suzannecollins</td>\n",
       "      <td>thehungergamestakesplaceinanationknownaspaneme...</td>\n",
       "      <td>sciencefictionadventurenovelalternatehistorysp...</td>\n",
       "    </tr>\n",
       "    <tr>\n",
       "      <th>1</th>\n",
       "      <td>harrypotterandthephilosophersstone</td>\n",
       "      <td>rowlingmarygrandpr</td>\n",
       "      <td>beforethestartofthenovelvoldemortconsideredthe...</td>\n",
       "      <td>childrensliteraturefantasyspeculativefictionfi...</td>\n",
       "    </tr>\n",
       "  </tbody>\n",
       "</table>\n",
       "</div>"
      ],
      "text/plain": [
       "                                title             authors  \\\n",
       "0                      thehungergames      suzannecollins   \n",
       "1  harrypotterandthephilosophersstone  rowlingmarygrandpr   \n",
       "\n",
       "                                         description  \\\n",
       "0  thehungergamestakesplaceinanationknownaspaneme...   \n",
       "1  beforethestartofthenovelvoldemortconsideredthe...   \n",
       "\n",
       "                                          categories  \n",
       "0  sciencefictionadventurenovelalternatehistorysp...  \n",
       "1  childrensliteraturefantasyspeculativefictionfi...  "
      ]
     },
     "execution_count": 167,
     "metadata": {},
     "output_type": "execute_result"
    }
   ],
   "source": [
    "def clean_data(x):\n",
    "    x = str(x)\n",
    "    word_tokens = word_tokenize(x)\n",
    "    filtered_sentence = [w.lower() for w in word_tokens if w.isalpha()] # not w in stop_words and\n",
    "    x =  \" \".join(filtered_sentence)\n",
    "    return str.lower(x.replace(\" \", \"\"))\n",
    "\n",
    "features = ['title', 'authors', 'description', 'categories']\n",
    "filledna = books_summary_end[features]\n",
    "\n",
    "for feature in features:\n",
    "    filledna[feature] = filledna[feature].apply(clean_data)\n",
    "    \n",
    "filledna.head(2)"
   ]
  },
  {
   "cell_type": "code",
   "execution_count": 168,
   "metadata": {},
   "outputs": [
    {
     "data": {
      "text/plain": [
       "0       thehungergames suzannecollins thehungergamesta...\n",
       "1       harrypotterandthephilosophersstone rowlingmary...\n",
       "2       twilight stepheniemeyer isabellabellaswanmoves...\n",
       "3       tokillamockingbird harperlee thebookopenswitht...\n",
       "4       thegreatgatsby scottfitzgerald thestorybeginsw...\n",
       "                              ...                        \n",
       "9995    bayoumoon ilonaandrews theedgeliesbetweenworld...\n",
       "9996    meansofascent robertcaro robertcaroslifeoflynd...\n",
       "9997    themauritiuscommand patrickobrian whenthenovel...\n",
       "9998    cinderellaatemydaughterdispatchesfromthefrontl...\n",
       "9999    thefirstworldwar johnkeegan thefirstworldwarcr...\n",
       "Name: soup, Length: 10000, dtype: object"
      ]
     },
     "execution_count": 168,
     "metadata": {},
     "output_type": "execute_result"
    }
   ],
   "source": [
    "def create_soup(x):\n",
    "    return x['title'] + ' ' + x['authors'] + ' ' + x['description'] + ' ' + x['categories']\n",
    "\n",
    "books_summary_end['soup'] = filledna.apply(create_soup, axis=1)\n",
    "books_summary_end['soup']"
   ]
  },
  {
   "cell_type": "markdown",
   "metadata": {},
   "source": [
    "## popular"
   ]
  },
  {
   "cell_type": "code",
   "execution_count": 189,
   "metadata": {},
   "outputs": [
    {
     "data": {
      "text/html": [
       "<div>\n",
       "<style scoped>\n",
       "    .dataframe tbody tr th:only-of-type {\n",
       "        vertical-align: middle;\n",
       "    }\n",
       "\n",
       "    .dataframe tbody tr th {\n",
       "        vertical-align: top;\n",
       "    }\n",
       "\n",
       "    .dataframe thead th {\n",
       "        text-align: right;\n",
       "    }\n",
       "</style>\n",
       "<table border=\"1\" class=\"dataframe\">\n",
       "  <thead>\n",
       "    <tr style=\"text-align: right;\">\n",
       "      <th></th>\n",
       "      <th>title</th>\n",
       "      <th>ratings_count</th>\n",
       "      <th>average_rating</th>\n",
       "      <th>score</th>\n",
       "    </tr>\n",
       "  </thead>\n",
       "  <tbody>\n",
       "    <tr>\n",
       "      <th>24</th>\n",
       "      <td>Harry Potter and the Deathly Hallows</td>\n",
       "      <td>1746574</td>\n",
       "      <td>4.61</td>\n",
       "      <td>4.578926</td>\n",
       "    </tr>\n",
       "    <tr>\n",
       "      <th>26</th>\n",
       "      <td>Harry Potter and the Half-Blood Prince</td>\n",
       "      <td>1678823</td>\n",
       "      <td>4.54</td>\n",
       "      <td>4.511454</td>\n",
       "    </tr>\n",
       "    <tr>\n",
       "      <th>17</th>\n",
       "      <td>Harry Potter and the Prisoner of Azkaban</td>\n",
       "      <td>1832823</td>\n",
       "      <td>4.53</td>\n",
       "      <td>4.504224</td>\n",
       "    </tr>\n",
       "    <tr>\n",
       "      <th>23</th>\n",
       "      <td>Harry Potter and the Goblet of Fire</td>\n",
       "      <td>1753043</td>\n",
       "      <td>4.53</td>\n",
       "      <td>4.503111</td>\n",
       "    </tr>\n",
       "    <tr>\n",
       "      <th>421</th>\n",
       "      <td>Harry Potter Series Box Set</td>\n",
       "      <td>190050</td>\n",
       "      <td>4.74</td>\n",
       "      <td>4.495659</td>\n",
       "    </tr>\n",
       "    <tr>\n",
       "      <th>134</th>\n",
       "      <td>A Storm of Swords</td>\n",
       "      <td>469022</td>\n",
       "      <td>4.54</td>\n",
       "      <td>4.450127</td>\n",
       "    </tr>\n",
       "    <tr>\n",
       "      <th>191</th>\n",
       "      <td>The Name of the Wind</td>\n",
       "      <td>400101</td>\n",
       "      <td>4.55</td>\n",
       "      <td>4.445690</td>\n",
       "    </tr>\n",
       "    <tr>\n",
       "      <th>20</th>\n",
       "      <td>Harry Potter and the Order of the Phoenix</td>\n",
       "      <td>1735368</td>\n",
       "      <td>4.46</td>\n",
       "      <td>4.436452</td>\n",
       "    </tr>\n",
       "    <tr>\n",
       "      <th>1</th>\n",
       "      <td>Harry Potter and the Philosophers Stone</td>\n",
       "      <td>4602479</td>\n",
       "      <td>4.44</td>\n",
       "      <td>4.431228</td>\n",
       "    </tr>\n",
       "    <tr>\n",
       "      <th>160</th>\n",
       "      <td>The Return of the King</td>\n",
       "      <td>463959</td>\n",
       "      <td>4.51</td>\n",
       "      <td>4.424371</td>\n",
       "    </tr>\n",
       "  </tbody>\n",
       "</table>\n",
       "</div>"
      ],
      "text/plain": [
       "                                         title  ratings_count  average_rating  \\\n",
       "24        Harry Potter and the Deathly Hallows        1746574            4.61   \n",
       "26      Harry Potter and the Half-Blood Prince        1678823            4.54   \n",
       "17    Harry Potter and the Prisoner of Azkaban        1832823            4.53   \n",
       "23         Harry Potter and the Goblet of Fire        1753043            4.53   \n",
       "421                Harry Potter Series Box Set         190050            4.74   \n",
       "134                          A Storm of Swords         469022            4.54   \n",
       "191                       The Name of the Wind         400101            4.55   \n",
       "20   Harry Potter and the Order of the Phoenix        1735368            4.46   \n",
       "1      Harry Potter and the Philosophers Stone        4602479            4.44   \n",
       "160                     The Return of the King         463959            4.51   \n",
       "\n",
       "        score  \n",
       "24   4.578926  \n",
       "26   4.511454  \n",
       "17   4.504224  \n",
       "23   4.503111  \n",
       "421  4.495659  \n",
       "134  4.450127  \n",
       "191  4.445690  \n",
       "20   4.436452  \n",
       "1    4.431228  \n",
       "160  4.424371  "
      ]
     },
     "execution_count": 189,
     "metadata": {},
     "output_type": "execute_result"
    }
   ],
   "source": [
    "C = books_with_descr['average_rating'].mean()\n",
    "m = books_with_descr['ratings_count'].quantile(0.9)\n",
    "trending_books = books_with_descr.copy().loc[books_with_descr['ratings_count'] >= m]\n",
    "\n",
    "def weighted_rating(x, m=m, C=C):\n",
    "    v = x['ratings_count']\n",
    "    R = x['average_rating']\n",
    "    return (v / (v + m) * R) + (m / (m + v) * C)\n",
    "\n",
    "trending_books['score'] = trending_books.apply(weighted_rating, axis=1)\n",
    "trending_books = trending_books.sort_values('score', ascending=False)\n",
    "trending_books[['title', 'ratings_count', 'average_rating', 'score']].head(10)"
   ]
  },
  {
   "cell_type": "markdown",
   "metadata": {},
   "source": [
    "# reading the movie dataset"
   ]
  },
  {
   "cell_type": "code",
   "execution_count": 80,
   "metadata": {},
   "outputs": [
    {
     "name": "stdout",
     "output_type": "stream",
     "text": [
      "(100004, 4)\n"
     ]
    },
    {
     "data": {
      "text/html": [
       "<div>\n",
       "<style scoped>\n",
       "    .dataframe tbody tr th:only-of-type {\n",
       "        vertical-align: middle;\n",
       "    }\n",
       "\n",
       "    .dataframe tbody tr th {\n",
       "        vertical-align: top;\n",
       "    }\n",
       "\n",
       "    .dataframe thead th {\n",
       "        text-align: right;\n",
       "    }\n",
       "</style>\n",
       "<table border=\"1\" class=\"dataframe\">\n",
       "  <thead>\n",
       "    <tr style=\"text-align: right;\">\n",
       "      <th></th>\n",
       "      <th>userId</th>\n",
       "      <th>movieId</th>\n",
       "      <th>rating</th>\n",
       "      <th>timestamp</th>\n",
       "    </tr>\n",
       "  </thead>\n",
       "  <tbody>\n",
       "    <tr>\n",
       "      <th>0</th>\n",
       "      <td>1</td>\n",
       "      <td>31</td>\n",
       "      <td>2.5</td>\n",
       "      <td>1260759144</td>\n",
       "    </tr>\n",
       "    <tr>\n",
       "      <th>1</th>\n",
       "      <td>1</td>\n",
       "      <td>1029</td>\n",
       "      <td>3.0</td>\n",
       "      <td>1260759179</td>\n",
       "    </tr>\n",
       "  </tbody>\n",
       "</table>\n",
       "</div>"
      ],
      "text/plain": [
       "   userId  movieId  rating   timestamp\n",
       "0       1       31     2.5  1260759144\n",
       "1       1     1029     3.0  1260759179"
      ]
     },
     "execution_count": 80,
     "metadata": {},
     "output_type": "execute_result"
    }
   ],
   "source": [
    "# dataset: https://www.kaggle.com/rounakbanik/the-movies-dataset --> licence: CC0: Public Domain\n",
    "rating_small = pd.read_csv(\"datasets-movies/dataset-the-movie/ratings_small.csv\")\n",
    "print(rating_small.shape)\n",
    "rating_small.head(2)"
   ]
  },
  {
   "cell_type": "code",
   "execution_count": 81,
   "metadata": {},
   "outputs": [
    {
     "name": "stdout",
     "output_type": "stream",
     "text": [
      "(26024289, 4)\n"
     ]
    },
    {
     "data": {
      "text/html": [
       "<div>\n",
       "<style scoped>\n",
       "    .dataframe tbody tr th:only-of-type {\n",
       "        vertical-align: middle;\n",
       "    }\n",
       "\n",
       "    .dataframe tbody tr th {\n",
       "        vertical-align: top;\n",
       "    }\n",
       "\n",
       "    .dataframe thead th {\n",
       "        text-align: right;\n",
       "    }\n",
       "</style>\n",
       "<table border=\"1\" class=\"dataframe\">\n",
       "  <thead>\n",
       "    <tr style=\"text-align: right;\">\n",
       "      <th></th>\n",
       "      <th>userId</th>\n",
       "      <th>movieId</th>\n",
       "      <th>rating</th>\n",
       "      <th>timestamp</th>\n",
       "    </tr>\n",
       "  </thead>\n",
       "  <tbody>\n",
       "    <tr>\n",
       "      <th>0</th>\n",
       "      <td>1</td>\n",
       "      <td>110</td>\n",
       "      <td>1.0</td>\n",
       "      <td>1425941529</td>\n",
       "    </tr>\n",
       "    <tr>\n",
       "      <th>1</th>\n",
       "      <td>1</td>\n",
       "      <td>147</td>\n",
       "      <td>4.5</td>\n",
       "      <td>1425942435</td>\n",
       "    </tr>\n",
       "  </tbody>\n",
       "</table>\n",
       "</div>"
      ],
      "text/plain": [
       "   userId  movieId  rating   timestamp\n",
       "0       1      110     1.0  1425941529\n",
       "1       1      147     4.5  1425942435"
      ]
     },
     "execution_count": 81,
     "metadata": {},
     "output_type": "execute_result"
    }
   ],
   "source": [
    "rating_large = pd.read_csv(\"datasets-movies/dataset-the-movie/ratings.csv\")\n",
    "print(rating_large.shape)\n",
    "rating_large.head(2)"
   ]
  },
  {
   "cell_type": "code",
   "execution_count": 270,
   "metadata": {},
   "outputs": [
    {
     "name": "stdout",
     "output_type": "stream",
     "text": [
      "(45463, 25)\n"
     ]
    },
    {
     "data": {
      "text/html": [
       "<div>\n",
       "<style scoped>\n",
       "    .dataframe tbody tr th:only-of-type {\n",
       "        vertical-align: middle;\n",
       "    }\n",
       "\n",
       "    .dataframe tbody tr th {\n",
       "        vertical-align: top;\n",
       "    }\n",
       "\n",
       "    .dataframe thead th {\n",
       "        text-align: right;\n",
       "    }\n",
       "</style>\n",
       "<table border=\"1\" class=\"dataframe\">\n",
       "  <thead>\n",
       "    <tr style=\"text-align: right;\">\n",
       "      <th></th>\n",
       "      <th>adult</th>\n",
       "      <th>belongs_to_collection</th>\n",
       "      <th>budget</th>\n",
       "      <th>genres</th>\n",
       "      <th>homepage</th>\n",
       "      <th>id</th>\n",
       "      <th>imdb_id</th>\n",
       "      <th>original_language</th>\n",
       "      <th>original_title</th>\n",
       "      <th>overview</th>\n",
       "      <th>popularity</th>\n",
       "      <th>poster_path</th>\n",
       "      <th>production_companies</th>\n",
       "      <th>production_countries</th>\n",
       "      <th>release_date</th>\n",
       "      <th>revenue</th>\n",
       "      <th>runtime</th>\n",
       "      <th>spoken_languages</th>\n",
       "      <th>status</th>\n",
       "      <th>tagline</th>\n",
       "      <th>title</th>\n",
       "      <th>video</th>\n",
       "      <th>vote_average</th>\n",
       "      <th>vote_count</th>\n",
       "      <th>clean_imdb_id</th>\n",
       "    </tr>\n",
       "  </thead>\n",
       "  <tbody>\n",
       "    <tr>\n",
       "      <th>0</th>\n",
       "      <td>False</td>\n",
       "      <td>{'id': 10194, 'name': 'Toy Story Collection', ...</td>\n",
       "      <td>30000000</td>\n",
       "      <td>[{'id': 16, 'name': 'Animation'}, {'id': 35, '...</td>\n",
       "      <td>http://toystory.disney.com/toy-story</td>\n",
       "      <td>862</td>\n",
       "      <td>tt0114709</td>\n",
       "      <td>en</td>\n",
       "      <td>Toy Story</td>\n",
       "      <td>Led by Woody, Andy's toys live happily in his ...</td>\n",
       "      <td>21.9469</td>\n",
       "      <td>/rhIRbceoE9lR4veEXuwCC2wARtG.jpg</td>\n",
       "      <td>[{'name': 'Pixar Animation Studios', 'id': 3}]</td>\n",
       "      <td>[{'iso_3166_1': 'US', 'name': 'United States o...</td>\n",
       "      <td>1995-10-30</td>\n",
       "      <td>373554033.0</td>\n",
       "      <td>81.0</td>\n",
       "      <td>[{'iso_639_1': 'en', 'name': 'English'}]</td>\n",
       "      <td>Released</td>\n",
       "      <td>NaN</td>\n",
       "      <td>Toy Story</td>\n",
       "      <td>False</td>\n",
       "      <td>7.7</td>\n",
       "      <td>5415.0</td>\n",
       "      <td>114709</td>\n",
       "    </tr>\n",
       "    <tr>\n",
       "      <th>1</th>\n",
       "      <td>False</td>\n",
       "      <td>NaN</td>\n",
       "      <td>65000000</td>\n",
       "      <td>[{'id': 12, 'name': 'Adventure'}, {'id': 14, '...</td>\n",
       "      <td>NaN</td>\n",
       "      <td>8844</td>\n",
       "      <td>tt0113497</td>\n",
       "      <td>en</td>\n",
       "      <td>Jumanji</td>\n",
       "      <td>When siblings Judy and Peter discover an encha...</td>\n",
       "      <td>17.0155</td>\n",
       "      <td>/vzmL6fP7aPKNKPRTFnZmiUfciyV.jpg</td>\n",
       "      <td>[{'name': 'TriStar Pictures', 'id': 559}, {'na...</td>\n",
       "      <td>[{'iso_3166_1': 'US', 'name': 'United States o...</td>\n",
       "      <td>1995-12-15</td>\n",
       "      <td>262797249.0</td>\n",
       "      <td>104.0</td>\n",
       "      <td>[{'iso_639_1': 'en', 'name': 'English'}, {'iso...</td>\n",
       "      <td>Released</td>\n",
       "      <td>Roll the dice and unleash the excitement!</td>\n",
       "      <td>Jumanji</td>\n",
       "      <td>False</td>\n",
       "      <td>6.9</td>\n",
       "      <td>2413.0</td>\n",
       "      <td>113497</td>\n",
       "    </tr>\n",
       "  </tbody>\n",
       "</table>\n",
       "</div>"
      ],
      "text/plain": [
       "   adult                              belongs_to_collection    budget  \\\n",
       "0  False  {'id': 10194, 'name': 'Toy Story Collection', ...  30000000   \n",
       "1  False                                                NaN  65000000   \n",
       "\n",
       "                                              genres  \\\n",
       "0  [{'id': 16, 'name': 'Animation'}, {'id': 35, '...   \n",
       "1  [{'id': 12, 'name': 'Adventure'}, {'id': 14, '...   \n",
       "\n",
       "                               homepage    id    imdb_id original_language  \\\n",
       "0  http://toystory.disney.com/toy-story   862  tt0114709                en   \n",
       "1                                   NaN  8844  tt0113497                en   \n",
       "\n",
       "  original_title                                           overview  \\\n",
       "0      Toy Story  Led by Woody, Andy's toys live happily in his ...   \n",
       "1        Jumanji  When siblings Judy and Peter discover an encha...   \n",
       "\n",
       "  popularity                       poster_path  \\\n",
       "0    21.9469  /rhIRbceoE9lR4veEXuwCC2wARtG.jpg   \n",
       "1    17.0155  /vzmL6fP7aPKNKPRTFnZmiUfciyV.jpg   \n",
       "\n",
       "                                production_companies  \\\n",
       "0     [{'name': 'Pixar Animation Studios', 'id': 3}]   \n",
       "1  [{'name': 'TriStar Pictures', 'id': 559}, {'na...   \n",
       "\n",
       "                                production_countries release_date  \\\n",
       "0  [{'iso_3166_1': 'US', 'name': 'United States o...   1995-10-30   \n",
       "1  [{'iso_3166_1': 'US', 'name': 'United States o...   1995-12-15   \n",
       "\n",
       "       revenue  runtime                                   spoken_languages  \\\n",
       "0  373554033.0     81.0           [{'iso_639_1': 'en', 'name': 'English'}]   \n",
       "1  262797249.0    104.0  [{'iso_639_1': 'en', 'name': 'English'}, {'iso...   \n",
       "\n",
       "     status                                    tagline      title  video  \\\n",
       "0  Released                                        NaN  Toy Story  False   \n",
       "1  Released  Roll the dice and unleash the excitement!    Jumanji  False   \n",
       "\n",
       "   vote_average  vote_count  clean_imdb_id  \n",
       "0           7.7      5415.0         114709  \n",
       "1           6.9      2413.0         113497  "
      ]
     },
     "execution_count": 270,
     "metadata": {},
     "output_type": "execute_result"
    }
   ],
   "source": [
    "movies = pd.read_csv(\"datasets-movies/dataset-the-movie/movies_metadata.csv\")\n",
    "# img url: https://image.tmdb.org/t/p/original/ + poster_path\n",
    "# movies = movies.fillna(\"\")\n",
    "\n",
    "wrong_id = []\n",
    "counter = 0\n",
    "for i in movies['id']:\n",
    "    try:\n",
    "        i = int(i)\n",
    "    except:\n",
    "        wrong_id.append(counter)\n",
    "    counter += 1\n",
    "movies = movies.drop([19730, 29503, 35587]) # [19730, 29503, 35587]\n",
    "\n",
    "def clean_imdb_id(x):\n",
    "    if type(x) == str:\n",
    "        x = x.split(\"tt\")[1]\n",
    "    try:\n",
    "        x = int(x)\n",
    "    except:\n",
    "        x = -1\n",
    "    return x\n",
    "movies[\"clean_imdb_id\"] = movies[\"imdb_id\"].apply(clean_imdb_id)\n",
    "\n",
    "print(movies.shape)\n",
    "movies.head(2)"
   ]
  },
  {
   "cell_type": "code",
   "execution_count": 218,
   "metadata": {},
   "outputs": [
    {
     "name": "stdout",
     "output_type": "stream",
     "text": [
      "(45476, 3)\n"
     ]
    },
    {
     "data": {
      "text/html": [
       "<div>\n",
       "<style scoped>\n",
       "    .dataframe tbody tr th:only-of-type {\n",
       "        vertical-align: middle;\n",
       "    }\n",
       "\n",
       "    .dataframe tbody tr th {\n",
       "        vertical-align: top;\n",
       "    }\n",
       "\n",
       "    .dataframe thead th {\n",
       "        text-align: right;\n",
       "    }\n",
       "</style>\n",
       "<table border=\"1\" class=\"dataframe\">\n",
       "  <thead>\n",
       "    <tr style=\"text-align: right;\">\n",
       "      <th></th>\n",
       "      <th>cast</th>\n",
       "      <th>crew</th>\n",
       "      <th>id</th>\n",
       "    </tr>\n",
       "  </thead>\n",
       "  <tbody>\n",
       "    <tr>\n",
       "      <th>0</th>\n",
       "      <td>[{'cast_id': 14, 'character': 'Woody (voice)',...</td>\n",
       "      <td>[{'credit_id': '52fe4284c3a36847f8024f49', 'de...</td>\n",
       "      <td>862</td>\n",
       "    </tr>\n",
       "    <tr>\n",
       "      <th>1</th>\n",
       "      <td>[{'cast_id': 1, 'character': 'Alan Parrish', '...</td>\n",
       "      <td>[{'credit_id': '52fe44bfc3a36847f80a7cd1', 'de...</td>\n",
       "      <td>8844</td>\n",
       "    </tr>\n",
       "  </tbody>\n",
       "</table>\n",
       "</div>"
      ],
      "text/plain": [
       "                                                cast  \\\n",
       "0  [{'cast_id': 14, 'character': 'Woody (voice)',...   \n",
       "1  [{'cast_id': 1, 'character': 'Alan Parrish', '...   \n",
       "\n",
       "                                                crew    id  \n",
       "0  [{'credit_id': '52fe4284c3a36847f8024f49', 'de...   862  \n",
       "1  [{'credit_id': '52fe44bfc3a36847f80a7cd1', 'de...  8844  "
      ]
     },
     "execution_count": 218,
     "metadata": {},
     "output_type": "execute_result"
    }
   ],
   "source": [
    "credits = pd.read_csv(\"datasets-movies/dataset-the-movie/credits.csv\")\n",
    "print(credits.shape)\n",
    "credits.head(2)"
   ]
  },
  {
   "cell_type": "code",
   "execution_count": 154,
   "metadata": {},
   "outputs": [
    {
     "name": "stdout",
     "output_type": "stream",
     "text": [
      "(46419, 2)\n"
     ]
    },
    {
     "data": {
      "text/html": [
       "<div>\n",
       "<style scoped>\n",
       "    .dataframe tbody tr th:only-of-type {\n",
       "        vertical-align: middle;\n",
       "    }\n",
       "\n",
       "    .dataframe tbody tr th {\n",
       "        vertical-align: top;\n",
       "    }\n",
       "\n",
       "    .dataframe thead th {\n",
       "        text-align: right;\n",
       "    }\n",
       "</style>\n",
       "<table border=\"1\" class=\"dataframe\">\n",
       "  <thead>\n",
       "    <tr style=\"text-align: right;\">\n",
       "      <th></th>\n",
       "      <th>id</th>\n",
       "      <th>keywords</th>\n",
       "    </tr>\n",
       "  </thead>\n",
       "  <tbody>\n",
       "    <tr>\n",
       "      <th>0</th>\n",
       "      <td>862</td>\n",
       "      <td>[{'id': 931, 'name': 'jealousy'}, {'id': 4290,...</td>\n",
       "    </tr>\n",
       "    <tr>\n",
       "      <th>1</th>\n",
       "      <td>8844</td>\n",
       "      <td>[{'id': 10090, 'name': 'board game'}, {'id': 1...</td>\n",
       "    </tr>\n",
       "  </tbody>\n",
       "</table>\n",
       "</div>"
      ],
      "text/plain": [
       "     id                                           keywords\n",
       "0   862  [{'id': 931, 'name': 'jealousy'}, {'id': 4290,...\n",
       "1  8844  [{'id': 10090, 'name': 'board game'}, {'id': 1..."
      ]
     },
     "execution_count": 154,
     "metadata": {},
     "output_type": "execute_result"
    }
   ],
   "source": [
    "keywords = pd.read_csv(\"datasets-movies/dataset-the-movie/keywords.csv\")\n",
    "print(keywords.shape)\n",
    "keywords.head(2)"
   ]
  },
  {
   "cell_type": "code",
   "execution_count": 155,
   "metadata": {},
   "outputs": [
    {
     "name": "stdout",
     "output_type": "stream",
     "text": [
      "(9125, 3)\n"
     ]
    },
    {
     "data": {
      "text/html": [
       "<div>\n",
       "<style scoped>\n",
       "    .dataframe tbody tr th:only-of-type {\n",
       "        vertical-align: middle;\n",
       "    }\n",
       "\n",
       "    .dataframe tbody tr th {\n",
       "        vertical-align: top;\n",
       "    }\n",
       "\n",
       "    .dataframe thead th {\n",
       "        text-align: right;\n",
       "    }\n",
       "</style>\n",
       "<table border=\"1\" class=\"dataframe\">\n",
       "  <thead>\n",
       "    <tr style=\"text-align: right;\">\n",
       "      <th></th>\n",
       "      <th>movieId</th>\n",
       "      <th>imdbId</th>\n",
       "      <th>tmdbId</th>\n",
       "    </tr>\n",
       "  </thead>\n",
       "  <tbody>\n",
       "    <tr>\n",
       "      <th>0</th>\n",
       "      <td>1</td>\n",
       "      <td>114709</td>\n",
       "      <td>862.0</td>\n",
       "    </tr>\n",
       "    <tr>\n",
       "      <th>1</th>\n",
       "      <td>2</td>\n",
       "      <td>113497</td>\n",
       "      <td>8844.0</td>\n",
       "    </tr>\n",
       "  </tbody>\n",
       "</table>\n",
       "</div>"
      ],
      "text/plain": [
       "   movieId  imdbId  tmdbId\n",
       "0        1  114709   862.0\n",
       "1        2  113497  8844.0"
      ]
     },
     "execution_count": 155,
     "metadata": {},
     "output_type": "execute_result"
    }
   ],
   "source": [
    "links_small = pd.read_csv(\"datasets-movies/dataset-the-movie/links_small.csv\")\n",
    "print(links_small.shape)\n",
    "links_small.head(2)"
   ]
  },
  {
   "cell_type": "code",
   "execution_count": 156,
   "metadata": {},
   "outputs": [
    {
     "name": "stdout",
     "output_type": "stream",
     "text": [
      "(45843, 3)\n"
     ]
    },
    {
     "data": {
      "text/html": [
       "<div>\n",
       "<style scoped>\n",
       "    .dataframe tbody tr th:only-of-type {\n",
       "        vertical-align: middle;\n",
       "    }\n",
       "\n",
       "    .dataframe tbody tr th {\n",
       "        vertical-align: top;\n",
       "    }\n",
       "\n",
       "    .dataframe thead th {\n",
       "        text-align: right;\n",
       "    }\n",
       "</style>\n",
       "<table border=\"1\" class=\"dataframe\">\n",
       "  <thead>\n",
       "    <tr style=\"text-align: right;\">\n",
       "      <th></th>\n",
       "      <th>movieId</th>\n",
       "      <th>imdbId</th>\n",
       "      <th>tmdbId</th>\n",
       "    </tr>\n",
       "  </thead>\n",
       "  <tbody>\n",
       "    <tr>\n",
       "      <th>0</th>\n",
       "      <td>1</td>\n",
       "      <td>114709</td>\n",
       "      <td>862.0</td>\n",
       "    </tr>\n",
       "    <tr>\n",
       "      <th>1</th>\n",
       "      <td>2</td>\n",
       "      <td>113497</td>\n",
       "      <td>8844.0</td>\n",
       "    </tr>\n",
       "  </tbody>\n",
       "</table>\n",
       "</div>"
      ],
      "text/plain": [
       "   movieId  imdbId  tmdbId\n",
       "0        1  114709   862.0\n",
       "1        2  113497  8844.0"
      ]
     },
     "execution_count": 156,
     "metadata": {},
     "output_type": "execute_result"
    }
   ],
   "source": [
    "links_large = pd.read_csv(\"datasets-movies/dataset-the-movie/links.csv\")\n",
    "print(links_large.shape)\n",
    "links_large.head(2)"
   ]
  },
  {
   "cell_type": "code",
   "execution_count": 157,
   "metadata": {},
   "outputs": [
    {
     "data": {
      "text/html": [
       "<div>\n",
       "<style scoped>\n",
       "    .dataframe tbody tr th:only-of-type {\n",
       "        vertical-align: middle;\n",
       "    }\n",
       "\n",
       "    .dataframe tbody tr th {\n",
       "        vertical-align: top;\n",
       "    }\n",
       "\n",
       "    .dataframe thead th {\n",
       "        text-align: right;\n",
       "    }\n",
       "</style>\n",
       "<table border=\"1\" class=\"dataframe\">\n",
       "  <thead>\n",
       "    <tr style=\"text-align: right;\">\n",
       "      <th></th>\n",
       "      <th>imdbId</th>\n",
       "      <th>Poster</th>\n",
       "    </tr>\n",
       "  </thead>\n",
       "  <tbody>\n",
       "    <tr>\n",
       "      <th>0</th>\n",
       "      <td>114709</td>\n",
       "      <td>https://images-na.ssl-images-amazon.com/images...</td>\n",
       "    </tr>\n",
       "    <tr>\n",
       "      <th>1</th>\n",
       "      <td>113497</td>\n",
       "      <td>https://images-na.ssl-images-amazon.com/images...</td>\n",
       "    </tr>\n",
       "  </tbody>\n",
       "</table>\n",
       "</div>"
      ],
      "text/plain": [
       "   imdbId                                             Poster\n",
       "0  114709  https://images-na.ssl-images-amazon.com/images...\n",
       "1  113497  https://images-na.ssl-images-amazon.com/images..."
      ]
     },
     "execution_count": 157,
     "metadata": {},
     "output_type": "execute_result"
    }
   ],
   "source": [
    "# dataset: https://www.kaggle.com/neha1703/movie-genre-from-its-poster --> licence: ?\n",
    "posters = pd.read_csv(\"datasets-movies/dataset-posters/imdbid_posterurl.csv\", usecols=[\"imdbId\", \"Poster\"])\n",
    "posters = posters.dropna()\n",
    "posters.head(2)"
   ]
  },
  {
   "cell_type": "code",
   "execution_count": 203,
   "metadata": {},
   "outputs": [
    {
     "name": "stdout",
     "output_type": "stream",
     "text": [
      "(46435, 2)\n"
     ]
    },
    {
     "data": {
      "text/html": [
       "<div>\n",
       "<style scoped>\n",
       "    .dataframe tbody tr th:only-of-type {\n",
       "        vertical-align: middle;\n",
       "    }\n",
       "\n",
       "    .dataframe tbody tr th {\n",
       "        vertical-align: top;\n",
       "    }\n",
       "\n",
       "    .dataframe thead th {\n",
       "        text-align: right;\n",
       "    }\n",
       "</style>\n",
       "<table border=\"1\" class=\"dataframe\">\n",
       "  <thead>\n",
       "    <tr style=\"text-align: right;\">\n",
       "      <th></th>\n",
       "      <th>clean_imdb_id</th>\n",
       "      <th>poster</th>\n",
       "    </tr>\n",
       "  </thead>\n",
       "  <tbody>\n",
       "    <tr>\n",
       "      <th>0</th>\n",
       "      <td>114709</td>\n",
       "      <td>https://images-na.ssl-images-amazon.com/images...</td>\n",
       "    </tr>\n",
       "    <tr>\n",
       "      <th>1</th>\n",
       "      <td>113497</td>\n",
       "      <td>https://images-na.ssl-images-amazon.com/images...</td>\n",
       "    </tr>\n",
       "  </tbody>\n",
       "</table>\n",
       "</div>"
      ],
      "text/plain": [
       "   clean_imdb_id                                             poster\n",
       "0         114709  https://images-na.ssl-images-amazon.com/images...\n",
       "1         113497  https://images-na.ssl-images-amazon.com/images..."
      ]
     },
     "execution_count": 203,
     "metadata": {},
     "output_type": "execute_result"
    }
   ],
   "source": [
    "movie_links_with_poster = links_large.merge(posters, left_on=\"imdbId\", right_on=\"imdbId\", how=\"left\")\n",
    "movie_links_with_poster = movie_links_with_poster.rename(columns={'imdbId': 'clean_imdb_id', 'Poster': 'poster'})\n",
    "movie_links_with_poster = movie_links_with_poster[[\"clean_imdb_id\", \"poster\"]]\n",
    "movie_links_with_poster[\"clean_imdb_id\"] = movie_links_with_poster[\"clean_imdb_id\"].astype('int')\n",
    "print(movie_links_with_poster.shape)\n",
    "movie_links_with_poster.head(2)"
   ]
  },
  {
   "cell_type": "code",
   "execution_count": 271,
   "metadata": {},
   "outputs": [
    {
     "name": "stdout",
     "output_type": "stream",
     "text": [
      "(47220, 29)\n"
     ]
    },
    {
     "data": {
      "text/html": [
       "<div>\n",
       "<style scoped>\n",
       "    .dataframe tbody tr th:only-of-type {\n",
       "        vertical-align: middle;\n",
       "    }\n",
       "\n",
       "    .dataframe tbody tr th {\n",
       "        vertical-align: top;\n",
       "    }\n",
       "\n",
       "    .dataframe thead th {\n",
       "        text-align: right;\n",
       "    }\n",
       "</style>\n",
       "<table border=\"1\" class=\"dataframe\">\n",
       "  <thead>\n",
       "    <tr style=\"text-align: right;\">\n",
       "      <th></th>\n",
       "      <th>adult</th>\n",
       "      <th>belongs_to_collection</th>\n",
       "      <th>budget</th>\n",
       "      <th>genres</th>\n",
       "      <th>homepage</th>\n",
       "      <th>id</th>\n",
       "      <th>imdb_id</th>\n",
       "      <th>original_language</th>\n",
       "      <th>original_title</th>\n",
       "      <th>overview</th>\n",
       "      <th>popularity</th>\n",
       "      <th>poster_path</th>\n",
       "      <th>production_companies</th>\n",
       "      <th>production_countries</th>\n",
       "      <th>release_date</th>\n",
       "      <th>revenue</th>\n",
       "      <th>runtime</th>\n",
       "      <th>spoken_languages</th>\n",
       "      <th>status</th>\n",
       "      <th>tagline</th>\n",
       "      <th>title</th>\n",
       "      <th>video</th>\n",
       "      <th>vote_average</th>\n",
       "      <th>vote_count</th>\n",
       "      <th>clean_imdb_id</th>\n",
       "      <th>cast</th>\n",
       "      <th>crew</th>\n",
       "      <th>keywords</th>\n",
       "      <th>poster</th>\n",
       "    </tr>\n",
       "  </thead>\n",
       "  <tbody>\n",
       "    <tr>\n",
       "      <th>0</th>\n",
       "      <td>False</td>\n",
       "      <td>{'id': 10194, 'name': 'Toy Story Collection', ...</td>\n",
       "      <td>30000000</td>\n",
       "      <td>[{'id': 16, 'name': 'Animation'}, {'id': 35, '...</td>\n",
       "      <td>http://toystory.disney.com/toy-story</td>\n",
       "      <td>862</td>\n",
       "      <td>tt0114709</td>\n",
       "      <td>en</td>\n",
       "      <td>Toy Story</td>\n",
       "      <td>Led by Woody, Andy's toys live happily in his ...</td>\n",
       "      <td>21.9469</td>\n",
       "      <td>/rhIRbceoE9lR4veEXuwCC2wARtG.jpg</td>\n",
       "      <td>[{'name': 'Pixar Animation Studios', 'id': 3}]</td>\n",
       "      <td>[{'iso_3166_1': 'US', 'name': 'United States o...</td>\n",
       "      <td>1995-10-30</td>\n",
       "      <td>373554033.0</td>\n",
       "      <td>81.0</td>\n",
       "      <td>[{'iso_639_1': 'en', 'name': 'English'}]</td>\n",
       "      <td>Released</td>\n",
       "      <td>NaN</td>\n",
       "      <td>Toy Story</td>\n",
       "      <td>False</td>\n",
       "      <td>7.7</td>\n",
       "      <td>5415.0</td>\n",
       "      <td>114709</td>\n",
       "      <td>[{'cast_id': 14, 'character': 'Woody (voice)',...</td>\n",
       "      <td>[{'credit_id': '52fe4284c3a36847f8024f49', 'de...</td>\n",
       "      <td>[{'id': 931, 'name': 'jealousy'}, {'id': 4290,...</td>\n",
       "      <td>https://images-na.ssl-images-amazon.com/images...</td>\n",
       "    </tr>\n",
       "    <tr>\n",
       "      <th>1</th>\n",
       "      <td>False</td>\n",
       "      <td>NaN</td>\n",
       "      <td>65000000</td>\n",
       "      <td>[{'id': 12, 'name': 'Adventure'}, {'id': 14, '...</td>\n",
       "      <td>NaN</td>\n",
       "      <td>8844</td>\n",
       "      <td>tt0113497</td>\n",
       "      <td>en</td>\n",
       "      <td>Jumanji</td>\n",
       "      <td>When siblings Judy and Peter discover an encha...</td>\n",
       "      <td>17.0155</td>\n",
       "      <td>/vzmL6fP7aPKNKPRTFnZmiUfciyV.jpg</td>\n",
       "      <td>[{'name': 'TriStar Pictures', 'id': 559}, {'na...</td>\n",
       "      <td>[{'iso_3166_1': 'US', 'name': 'United States o...</td>\n",
       "      <td>1995-12-15</td>\n",
       "      <td>262797249.0</td>\n",
       "      <td>104.0</td>\n",
       "      <td>[{'iso_639_1': 'en', 'name': 'English'}, {'iso...</td>\n",
       "      <td>Released</td>\n",
       "      <td>Roll the dice and unleash the excitement!</td>\n",
       "      <td>Jumanji</td>\n",
       "      <td>False</td>\n",
       "      <td>6.9</td>\n",
       "      <td>2413.0</td>\n",
       "      <td>113497</td>\n",
       "      <td>[{'cast_id': 1, 'character': 'Alan Parrish', '...</td>\n",
       "      <td>[{'credit_id': '52fe44bfc3a36847f80a7cd1', 'de...</td>\n",
       "      <td>[{'id': 10090, 'name': 'board game'}, {'id': 1...</td>\n",
       "      <td>https://images-na.ssl-images-amazon.com/images...</td>\n",
       "    </tr>\n",
       "  </tbody>\n",
       "</table>\n",
       "</div>"
      ],
      "text/plain": [
       "   adult                              belongs_to_collection    budget  \\\n",
       "0  False  {'id': 10194, 'name': 'Toy Story Collection', ...  30000000   \n",
       "1  False                                                NaN  65000000   \n",
       "\n",
       "                                              genres  \\\n",
       "0  [{'id': 16, 'name': 'Animation'}, {'id': 35, '...   \n",
       "1  [{'id': 12, 'name': 'Adventure'}, {'id': 14, '...   \n",
       "\n",
       "                               homepage    id    imdb_id original_language  \\\n",
       "0  http://toystory.disney.com/toy-story   862  tt0114709                en   \n",
       "1                                   NaN  8844  tt0113497                en   \n",
       "\n",
       "  original_title                                           overview  \\\n",
       "0      Toy Story  Led by Woody, Andy's toys live happily in his ...   \n",
       "1        Jumanji  When siblings Judy and Peter discover an encha...   \n",
       "\n",
       "  popularity                       poster_path  \\\n",
       "0    21.9469  /rhIRbceoE9lR4veEXuwCC2wARtG.jpg   \n",
       "1    17.0155  /vzmL6fP7aPKNKPRTFnZmiUfciyV.jpg   \n",
       "\n",
       "                                production_companies  \\\n",
       "0     [{'name': 'Pixar Animation Studios', 'id': 3}]   \n",
       "1  [{'name': 'TriStar Pictures', 'id': 559}, {'na...   \n",
       "\n",
       "                                production_countries release_date  \\\n",
       "0  [{'iso_3166_1': 'US', 'name': 'United States o...   1995-10-30   \n",
       "1  [{'iso_3166_1': 'US', 'name': 'United States o...   1995-12-15   \n",
       "\n",
       "       revenue  runtime                                   spoken_languages  \\\n",
       "0  373554033.0     81.0           [{'iso_639_1': 'en', 'name': 'English'}]   \n",
       "1  262797249.0    104.0  [{'iso_639_1': 'en', 'name': 'English'}, {'iso...   \n",
       "\n",
       "     status                                    tagline      title  video  \\\n",
       "0  Released                                        NaN  Toy Story  False   \n",
       "1  Released  Roll the dice and unleash the excitement!    Jumanji  False   \n",
       "\n",
       "   vote_average  vote_count  clean_imdb_id  \\\n",
       "0           7.7      5415.0         114709   \n",
       "1           6.9      2413.0         113497   \n",
       "\n",
       "                                                cast  \\\n",
       "0  [{'cast_id': 14, 'character': 'Woody (voice)',...   \n",
       "1  [{'cast_id': 1, 'character': 'Alan Parrish', '...   \n",
       "\n",
       "                                                crew  \\\n",
       "0  [{'credit_id': '52fe4284c3a36847f8024f49', 'de...   \n",
       "1  [{'credit_id': '52fe44bfc3a36847f80a7cd1', 'de...   \n",
       "\n",
       "                                            keywords  \\\n",
       "0  [{'id': 931, 'name': 'jealousy'}, {'id': 4290,...   \n",
       "1  [{'id': 10090, 'name': 'board game'}, {'id': 1...   \n",
       "\n",
       "                                              poster  \n",
       "0  https://images-na.ssl-images-amazon.com/images...  \n",
       "1  https://images-na.ssl-images-amazon.com/images...  "
      ]
     },
     "execution_count": 271,
     "metadata": {},
     "output_type": "execute_result"
    }
   ],
   "source": [
    "keywords['id'] = keywords['id'].astype('int')\n",
    "credits['id'] = credits['id'].astype('int')\n",
    "movies['id'] = movies['id'].astype('int')\n",
    "\n",
    "movies = pd.merge(movies, credits, on='id', how=\"left\")\n",
    "movies = pd.merge(movies, keywords, on='id', how=\"left\")\n",
    "movies = pd.merge(movies, movie_links_with_poster, on='clean_imdb_id', how=\"left\")\n",
    "\n",
    "print(movies.shape)\n",
    "movies.head(2)"
   ]
  },
  {
   "cell_type": "markdown",
   "metadata": {},
   "source": [
    "# clearing"
   ]
  },
  {
   "cell_type": "code",
   "execution_count": 275,
   "metadata": {},
   "outputs": [
    {
     "data": {
      "text/html": [
       "<div>\n",
       "<style scoped>\n",
       "    .dataframe tbody tr th:only-of-type {\n",
       "        vertical-align: middle;\n",
       "    }\n",
       "\n",
       "    .dataframe tbody tr th {\n",
       "        vertical-align: top;\n",
       "    }\n",
       "\n",
       "    .dataframe thead th {\n",
       "        text-align: right;\n",
       "    }\n",
       "</style>\n",
       "<table border=\"1\" class=\"dataframe\">\n",
       "  <thead>\n",
       "    <tr style=\"text-align: right;\">\n",
       "      <th></th>\n",
       "      <th>adult</th>\n",
       "      <th>belongs_to_collection</th>\n",
       "      <th>budget</th>\n",
       "      <th>genres</th>\n",
       "      <th>homepage</th>\n",
       "      <th>id</th>\n",
       "      <th>imdb_id</th>\n",
       "      <th>original_language</th>\n",
       "      <th>original_title</th>\n",
       "      <th>overview</th>\n",
       "      <th>popularity</th>\n",
       "      <th>poster_path</th>\n",
       "      <th>production_companies</th>\n",
       "      <th>production_countries</th>\n",
       "      <th>release_date</th>\n",
       "      <th>revenue</th>\n",
       "      <th>runtime</th>\n",
       "      <th>spoken_languages</th>\n",
       "      <th>status</th>\n",
       "      <th>tagline</th>\n",
       "      <th>title</th>\n",
       "      <th>video</th>\n",
       "      <th>vote_average</th>\n",
       "      <th>vote_count</th>\n",
       "      <th>clean_imdb_id</th>\n",
       "      <th>cast</th>\n",
       "      <th>crew</th>\n",
       "      <th>keywords</th>\n",
       "      <th>poster</th>\n",
       "      <th>clean_genres</th>\n",
       "      <th>clean_cast</th>\n",
       "      <th>director</th>\n",
       "      <th>clean_keywords</th>\n",
       "      <th>clean_spoken_languages</th>\n",
       "      <th>clean_production_countries</th>\n",
       "      <th>clean_production_companies</th>\n",
       "      <th>clean_belongs_to_collection</th>\n",
       "    </tr>\n",
       "  </thead>\n",
       "  <tbody>\n",
       "    <tr>\n",
       "      <th>0</th>\n",
       "      <td>False</td>\n",
       "      <td>{'id': 10194, 'name': 'Toy Story Collection', ...</td>\n",
       "      <td>30000000</td>\n",
       "      <td>[{'id': 16, 'name': 'Animation'}, {'id': 35, '...</td>\n",
       "      <td>http://toystory.disney.com/toy-story</td>\n",
       "      <td>862</td>\n",
       "      <td>tt0114709</td>\n",
       "      <td>en</td>\n",
       "      <td>Toy Story</td>\n",
       "      <td>Led by Woody, Andy's toys live happily in his ...</td>\n",
       "      <td>21.9469</td>\n",
       "      <td>/rhIRbceoE9lR4veEXuwCC2wARtG.jpg</td>\n",
       "      <td>[{'name': 'Pixar Animation Studios', 'id': 3}]</td>\n",
       "      <td>[{'iso_3166_1': 'US', 'name': 'United States o...</td>\n",
       "      <td>1995-10-30</td>\n",
       "      <td>3.73554e+08</td>\n",
       "      <td>81</td>\n",
       "      <td>[{'iso_639_1': 'en', 'name': 'English'}]</td>\n",
       "      <td>Released</td>\n",
       "      <td></td>\n",
       "      <td>Toy Story</td>\n",
       "      <td>False</td>\n",
       "      <td>7.7</td>\n",
       "      <td>5415</td>\n",
       "      <td>114709</td>\n",
       "      <td>[{'cast_id': 14, 'character': 'Woody (voice)',...</td>\n",
       "      <td>[{'credit_id': '52fe4284c3a36847f8024f49', 'de...</td>\n",
       "      <td>[{'id': 931, 'name': 'jealousy'}, {'id': 4290,...</td>\n",
       "      <td>https://images-na.ssl-images-amazon.com/images...</td>\n",
       "      <td>Animation, Comedy, Family</td>\n",
       "      <td>Tom Hanks, Tim Allen, Don Rickles</td>\n",
       "      <td>John Lasseter</td>\n",
       "      <td>jealousy, toy, boy</td>\n",
       "      <td>English</td>\n",
       "      <td>United States of America</td>\n",
       "      <td>Pixar Animation Studios</td>\n",
       "      <td>Toy Story Collection</td>\n",
       "    </tr>\n",
       "    <tr>\n",
       "      <th>1</th>\n",
       "      <td>False</td>\n",
       "      <td></td>\n",
       "      <td>65000000</td>\n",
       "      <td>[{'id': 12, 'name': 'Adventure'}, {'id': 14, '...</td>\n",
       "      <td></td>\n",
       "      <td>8844</td>\n",
       "      <td>tt0113497</td>\n",
       "      <td>en</td>\n",
       "      <td>Jumanji</td>\n",
       "      <td>When siblings Judy and Peter discover an encha...</td>\n",
       "      <td>17.0155</td>\n",
       "      <td>/vzmL6fP7aPKNKPRTFnZmiUfciyV.jpg</td>\n",
       "      <td>[{'name': 'TriStar Pictures', 'id': 559}, {'na...</td>\n",
       "      <td>[{'iso_3166_1': 'US', 'name': 'United States o...</td>\n",
       "      <td>1995-12-15</td>\n",
       "      <td>2.62797e+08</td>\n",
       "      <td>104</td>\n",
       "      <td>[{'iso_639_1': 'en', 'name': 'English'}, {'iso...</td>\n",
       "      <td>Released</td>\n",
       "      <td>Roll the dice and unleash the excitement!</td>\n",
       "      <td>Jumanji</td>\n",
       "      <td>False</td>\n",
       "      <td>6.9</td>\n",
       "      <td>2413</td>\n",
       "      <td>113497</td>\n",
       "      <td>[{'cast_id': 1, 'character': 'Alan Parrish', '...</td>\n",
       "      <td>[{'credit_id': '52fe44bfc3a36847f80a7cd1', 'de...</td>\n",
       "      <td>[{'id': 10090, 'name': 'board game'}, {'id': 1...</td>\n",
       "      <td>https://images-na.ssl-images-amazon.com/images...</td>\n",
       "      <td>Adventure, Fantasy, Family</td>\n",
       "      <td>Robin Williams, Jonathan Hyde, Kirsten Dunst</td>\n",
       "      <td>Joe Johnston</td>\n",
       "      <td>board game, disappearance, based on children's...</td>\n",
       "      <td>English, Français</td>\n",
       "      <td>United States of America</td>\n",
       "      <td>TriStar Pictures, Teitler Film, Interscope Com...</td>\n",
       "      <td></td>\n",
       "    </tr>\n",
       "  </tbody>\n",
       "</table>\n",
       "</div>"
      ],
      "text/plain": [
       "   adult                              belongs_to_collection    budget  \\\n",
       "0  False  {'id': 10194, 'name': 'Toy Story Collection', ...  30000000   \n",
       "1  False                                                     65000000   \n",
       "\n",
       "                                              genres  \\\n",
       "0  [{'id': 16, 'name': 'Animation'}, {'id': 35, '...   \n",
       "1  [{'id': 12, 'name': 'Adventure'}, {'id': 14, '...   \n",
       "\n",
       "                               homepage    id    imdb_id original_language  \\\n",
       "0  http://toystory.disney.com/toy-story   862  tt0114709                en   \n",
       "1                                        8844  tt0113497                en   \n",
       "\n",
       "  original_title                                           overview  \\\n",
       "0      Toy Story  Led by Woody, Andy's toys live happily in his ...   \n",
       "1        Jumanji  When siblings Judy and Peter discover an encha...   \n",
       "\n",
       "  popularity                       poster_path  \\\n",
       "0    21.9469  /rhIRbceoE9lR4veEXuwCC2wARtG.jpg   \n",
       "1    17.0155  /vzmL6fP7aPKNKPRTFnZmiUfciyV.jpg   \n",
       "\n",
       "                                production_companies  \\\n",
       "0     [{'name': 'Pixar Animation Studios', 'id': 3}]   \n",
       "1  [{'name': 'TriStar Pictures', 'id': 559}, {'na...   \n",
       "\n",
       "                                production_countries release_date  \\\n",
       "0  [{'iso_3166_1': 'US', 'name': 'United States o...   1995-10-30   \n",
       "1  [{'iso_3166_1': 'US', 'name': 'United States o...   1995-12-15   \n",
       "\n",
       "       revenue runtime                                   spoken_languages  \\\n",
       "0  3.73554e+08      81           [{'iso_639_1': 'en', 'name': 'English'}]   \n",
       "1  2.62797e+08     104  [{'iso_639_1': 'en', 'name': 'English'}, {'iso...   \n",
       "\n",
       "     status                                    tagline      title  video  \\\n",
       "0  Released                                             Toy Story  False   \n",
       "1  Released  Roll the dice and unleash the excitement!    Jumanji  False   \n",
       "\n",
       "  vote_average vote_count  clean_imdb_id  \\\n",
       "0          7.7       5415         114709   \n",
       "1          6.9       2413         113497   \n",
       "\n",
       "                                                cast  \\\n",
       "0  [{'cast_id': 14, 'character': 'Woody (voice)',...   \n",
       "1  [{'cast_id': 1, 'character': 'Alan Parrish', '...   \n",
       "\n",
       "                                                crew  \\\n",
       "0  [{'credit_id': '52fe4284c3a36847f8024f49', 'de...   \n",
       "1  [{'credit_id': '52fe44bfc3a36847f80a7cd1', 'de...   \n",
       "\n",
       "                                            keywords  \\\n",
       "0  [{'id': 931, 'name': 'jealousy'}, {'id': 4290,...   \n",
       "1  [{'id': 10090, 'name': 'board game'}, {'id': 1...   \n",
       "\n",
       "                                              poster  \\\n",
       "0  https://images-na.ssl-images-amazon.com/images...   \n",
       "1  https://images-na.ssl-images-amazon.com/images...   \n",
       "\n",
       "                 clean_genres                                    clean_cast  \\\n",
       "0   Animation, Comedy, Family             Tom Hanks, Tim Allen, Don Rickles   \n",
       "1  Adventure, Fantasy, Family  Robin Williams, Jonathan Hyde, Kirsten Dunst   \n",
       "\n",
       "        director                                     clean_keywords  \\\n",
       "0  John Lasseter                                 jealousy, toy, boy   \n",
       "1   Joe Johnston  board game, disappearance, based on children's...   \n",
       "\n",
       "  clean_spoken_languages clean_production_countries  \\\n",
       "0                English   United States of America   \n",
       "1      English, Français   United States of America   \n",
       "\n",
       "                          clean_production_companies  \\\n",
       "0                            Pixar Animation Studios   \n",
       "1  TriStar Pictures, Teitler Film, Interscope Com...   \n",
       "\n",
       "  clean_belongs_to_collection  \n",
       "0        Toy Story Collection  \n",
       "1                              "
      ]
     },
     "execution_count": 275,
     "metadata": {},
     "output_type": "execute_result"
    }
   ],
   "source": [
    "# genres, cast, crew, keywords, spoken_languages, production_countries, production_companies, belongs_to_collection\n",
    "def get_clean(x):\n",
    "    if x == np.nan or x == '' or x == 'nan':\n",
    "        return ''\n",
    "    try:\n",
    "        x = literal_eval(x)\n",
    "    except:\n",
    "        print(x)\n",
    "    cleaned = []\n",
    "    if isinstance(x, list):\n",
    "        if len(x) >= 3:\n",
    "            for i in x[:3]:\n",
    "                cleaned.append(i[\"name\"])\n",
    "            return \", \".join(cleaned)\n",
    "        else:\n",
    "            for i in x:\n",
    "                cleaned.append(i[\"name\"])\n",
    "            return \", \".join(cleaned)\n",
    "    return ''\n",
    "\n",
    "def get_director(x):\n",
    "    if x == np.nan or x == '' or x == 'nan':\n",
    "        return ''\n",
    "    x = literal_eval(x)\n",
    "    for i in x:\n",
    "        if i[\"job\"] == \"Director\":\n",
    "            return i[\"name\"]\n",
    "    return ''\n",
    "\n",
    "def get_collection(x):\n",
    "    if x == np.nan or x == '' or x == 'nan':\n",
    "        return ''\n",
    "    x = literal_eval(x)\n",
    "    return x[\"name\"]\n",
    "\n",
    "movies['clean_genres'] = movies['genres'].apply(get_clean)\n",
    "movies['clean_cast'] = movies['cast'].apply(get_clean)\n",
    "movies['director'] = movies['crew'].apply(get_director)\n",
    "movies['clean_keywords'] = movies['keywords'].apply(get_clean)\n",
    "movies['clean_spoken_languages'] = movies['spoken_languages'].apply(get_clean)\n",
    "movies['clean_production_countries'] = movies['production_countries'].apply(get_clean)\n",
    "movies['clean_production_companies'] = movies['production_companies'].apply(get_clean)\n",
    "movies['clean_belongs_to_collection'] = movies['belongs_to_collection'].apply(get_collection)\n",
    "\n",
    "movies.head(2)"
   ]
  },
  {
   "cell_type": "markdown",
   "metadata": {},
   "source": [
    "# user based recommender"
   ]
  },
  {
   "cell_type": "code",
   "execution_count": null,
   "metadata": {},
   "outputs": [],
   "source": [
    "reader = Reader()\n",
    "ratings = pd.read_csv('datasets-movies/dataset-the-movie/ratings_small.csv')\n",
    "\n",
    "data = Dataset.load_from_df(ratings[['userId', 'movieId', 'rating']], reader)\n",
    "kf = KFold(n_splits=5)\n",
    "svd = SVD()\n",
    "\n",
    "for trainset, testset in kf.split(data):\n",
    "    svd.fit(trainset)\n",
    "    predictions = svd.test(testset)\n",
    "    accuracy.rmse(predictions, verbose=True)"
   ]
  },
  {
   "cell_type": "code",
   "execution_count": null,
   "metadata": {},
   "outputs": [],
   "source": [
    "trainset = data.build_full_trainset()\n",
    "svd.fit(trainset)"
   ]
  },
  {
   "cell_type": "code",
   "execution_count": null,
   "metadata": {},
   "outputs": [],
   "source": [
    "svd.predict(1, 20, 3) # how much would rate user 1 to movie 20"
   ]
  },
  {
   "cell_type": "markdown",
   "metadata": {},
   "source": [
    "# fastai\n",
    "source: https://github.com/fastai/fastbook/blob/master/08_collab.ipynb\n",
    "\n",
    "# fastai - books"
   ]
  },
  {
   "cell_type": "code",
   "execution_count": 2,
   "metadata": {},
   "outputs": [
    {
     "name": "stdout",
     "output_type": "stream",
     "text": [
      "(12698, 4)\n"
     ]
    },
    {
     "data": {
      "text/html": [
       "<div>\n",
       "<style scoped>\n",
       "    .dataframe tbody tr th:only-of-type {\n",
       "        vertical-align: middle;\n",
       "    }\n",
       "\n",
       "    .dataframe tbody tr th {\n",
       "        vertical-align: top;\n",
       "    }\n",
       "\n",
       "    .dataframe thead th {\n",
       "        text-align: right;\n",
       "    }\n",
       "</style>\n",
       "<table border=\"1\" class=\"dataframe\">\n",
       "  <thead>\n",
       "    <tr style=\"text-align: right;\">\n",
       "      <th></th>\n",
       "      <th>user_id</th>\n",
       "      <th>book_id</th>\n",
       "      <th>rating</th>\n",
       "      <th>title</th>\n",
       "    </tr>\n",
       "  </thead>\n",
       "  <tbody>\n",
       "    <tr>\n",
       "      <th>0</th>\n",
       "      <td>1</td>\n",
       "      <td>7331</td>\n",
       "      <td>5</td>\n",
       "      <td>Wicca: A Guide for the Solitary Practitioner</td>\n",
       "    </tr>\n",
       "    <tr>\n",
       "      <th>1</th>\n",
       "      <td>1</td>\n",
       "      <td>7861</td>\n",
       "      <td>5</td>\n",
       "      <td>The Magic Mirror of M.C. Escher</td>\n",
       "    </tr>\n",
       "  </tbody>\n",
       "</table>\n",
       "</div>"
      ],
      "text/plain": [
       "   user_id  book_id  rating                                         title\n",
       "0        1     7331       5  Wicca: A Guide for the Solitary Practitioner\n",
       "1        1     7861       5               The Magic Mirror of M.C. Escher"
      ]
     },
     "execution_count": 2,
     "metadata": {},
     "output_type": "execute_result"
    }
   ],
   "source": [
    "book_dataset = pd.read_csv(\"datasets-site/books_dataset.csv\", usecols=[\"id\", \"title\"])\n",
    "book_dataset = book_dataset.rename(columns={\"id\": \"book_id\"})\n",
    "print(book_dataset.shape)\n",
    "book_dataset.head(2)\n",
    "\n",
    "book_ratings = pd.read_csv(\"datasets-site/books_ratings.csv\")\n",
    "book_ratings = book_ratings[[\"user_id\", \"book_id\", \"rating\"]]\n",
    "book_ratings = book_ratings.merge(book_dataset)\n",
    "print(book_ratings.shape)\n",
    "book_ratings.head(2)\n",
    "\n",
    "book_ratings = pd.read_csv(\"books_ratings.csv\")\n",
    "print(book_ratings.shape)\n",
    "book_ratings.head(2)"
   ]
  },
  {
   "cell_type": "code",
   "execution_count": 146,
   "metadata": {},
   "outputs": [
    {
     "data": {
      "text/html": [
       "<table border=\"1\" class=\"dataframe\">\n",
       "  <thead>\n",
       "    <tr style=\"text-align: left;\">\n",
       "      <th>epoch</th>\n",
       "      <th>train_loss</th>\n",
       "      <th>valid_loss</th>\n",
       "      <th>time</th>\n",
       "    </tr>\n",
       "  </thead>\n",
       "  <tbody>\n",
       "    <tr>\n",
       "      <td>0</td>\n",
       "      <td>1.598441</td>\n",
       "      <td>1.564797</td>\n",
       "      <td>00:01</td>\n",
       "    </tr>\n",
       "  </tbody>\n",
       "</table>"
      ],
      "text/plain": [
       "<IPython.core.display.HTML object>"
      ]
     },
     "metadata": {},
     "output_type": "display_data"
    },
    {
     "data": {
      "text/html": [
       "<table border=\"1\" class=\"dataframe\">\n",
       "  <thead>\n",
       "    <tr style=\"text-align: left;\">\n",
       "      <th>epoch</th>\n",
       "      <th>train_loss</th>\n",
       "      <th>valid_loss</th>\n",
       "      <th>time</th>\n",
       "    </tr>\n",
       "  </thead>\n",
       "  <tbody>\n",
       "    <tr>\n",
       "      <td>0</td>\n",
       "      <td>1.499040</td>\n",
       "      <td>1.537886</td>\n",
       "      <td>00:01</td>\n",
       "    </tr>\n",
       "    <tr>\n",
       "      <td>1</td>\n",
       "      <td>1.406583</td>\n",
       "      <td>1.472987</td>\n",
       "      <td>00:01</td>\n",
       "    </tr>\n",
       "    <tr>\n",
       "      <td>2</td>\n",
       "      <td>1.281187</td>\n",
       "      <td>1.410674</td>\n",
       "      <td>00:01</td>\n",
       "    </tr>\n",
       "    <tr>\n",
       "      <td>3</td>\n",
       "      <td>1.106393</td>\n",
       "      <td>1.369578</td>\n",
       "      <td>00:01</td>\n",
       "    </tr>\n",
       "    <tr>\n",
       "      <td>4</td>\n",
       "      <td>1.005396</td>\n",
       "      <td>1.351762</td>\n",
       "      <td>00:01</td>\n",
       "    </tr>\n",
       "    <tr>\n",
       "      <td>5</td>\n",
       "      <td>0.969777</td>\n",
       "      <td>1.348881</td>\n",
       "      <td>00:01</td>\n",
       "    </tr>\n",
       "  </tbody>\n",
       "</table>"
      ],
      "text/plain": [
       "<IPython.core.display.HTML object>"
      ]
     },
     "metadata": {},
     "output_type": "display_data"
    }
   ],
   "source": [
    "book_dls = CollabDataLoaders.from_df(book_ratings, item_name='title', seed=1)\n",
    "book_learn = collab_learner(book_dls, y_range=(0.5, 5.5))\n",
    "book_learn.fine_tune(6, wd=0.1)"
   ]
  },
  {
   "cell_type": "code",
   "execution_count": 145,
   "metadata": {},
   "outputs": [
    {
     "data": {
      "text/html": [],
      "text/plain": [
       "<IPython.core.display.HTML object>"
      ]
     },
     "metadata": {},
     "output_type": "display_data"
    },
    {
     "data": {
      "text/html": [
       "<table border=\"1\" class=\"dataframe\">\n",
       "  <thead>\n",
       "    <tr style=\"text-align: right;\">\n",
       "      <th></th>\n",
       "      <th>user_id</th>\n",
       "      <th>title</th>\n",
       "      <th>rating</th>\n",
       "      <th>rating_pred</th>\n",
       "    </tr>\n",
       "  </thead>\n",
       "  <tbody>\n",
       "    <tr>\n",
       "      <th>0</th>\n",
       "      <td>174</td>\n",
       "      <td>146</td>\n",
       "      <td>4</td>\n",
       "      <td>3.514095</td>\n",
       "    </tr>\n",
       "    <tr>\n",
       "      <th>1</th>\n",
       "      <td>460</td>\n",
       "      <td>1923</td>\n",
       "      <td>4</td>\n",
       "      <td>3.191102</td>\n",
       "    </tr>\n",
       "    <tr>\n",
       "      <th>2</th>\n",
       "      <td>213</td>\n",
       "      <td>2282</td>\n",
       "      <td>3</td>\n",
       "      <td>3.321907</td>\n",
       "    </tr>\n",
       "  </tbody>\n",
       "</table>"
      ],
      "text/plain": [
       "<IPython.core.display.HTML object>"
      ]
     },
     "metadata": {},
     "output_type": "display_data"
    }
   ],
   "source": [
    "books_dls = CollabDataLoaders.from_df(book_ratings, item_name='title', seed=1)\n",
    "books_collab_filtering = collab_learner(books_dls, y_range=(0.5, 5.5))\n",
    "books_collab_filtering.model_dir = \".\"\n",
    "books_collab_filtering = books_collab_filtering.load(\"books_collab_filtering\")\n",
    "\n",
    "book_learn.show_results(max_n=3)"
   ]
  },
  {
   "cell_type": "code",
   "execution_count": 166,
   "metadata": {},
   "outputs": [
    {
     "data": {
      "text/plain": [
       "{'user_id': (#666) ['#na#',1,2,3,4,5,6,7,8,9...],\n",
       " 'title': (#5988) ['#na#','             ','       1 [Kisu Yorimo Hayaku 1]','#Girlboss','...And Ladies of the Club','1,000 Places to See Before You Die','1/4 Gram','10% Happier: How I Tamed the Voice in My Head, Reduced Stress Without Losing My Edge, and Found Self-Help That Actually Works','100 Bullets, Vol. 1: First Shot, Last Call','100 Love Sonnets'...]}"
      ]
     },
     "execution_count": 166,
     "metadata": {},
     "output_type": "execute_result"
    }
   ],
   "source": [
    "book_learn.model_dir = \".\"\n",
    "book_learn.save(\"books_collab_filtering\")\n",
    "# book_learn = book_learn.load(\"books_collab_filtering\")\n",
    "\n",
    "book_user_embd = book_learn.model.u_weight.weight\n",
    "book_user_bais = book_learn.model.u_bias.weight\n",
    "book_book_embd = book_learn.model.i_weight.weight\n",
    "book_book_bais = book_learn.model.i_bias.weight\n",
    "\n",
    "book_dls.classes"
   ]
  },
  {
   "cell_type": "code",
   "execution_count": 61,
   "metadata": {},
   "outputs": [
    {
     "data": {
      "text/html": [],
      "text/plain": [
       "<IPython.core.display.HTML object>"
      ]
     },
     "metadata": {},
     "output_type": "display_data"
    },
    {
     "data": {
      "text/plain": [
       "(tensor([3.0445, 3.1135]),\n",
       " tensor([[4],\n",
       "         [4]]))"
      ]
     },
     "execution_count": 61,
     "metadata": {},
     "output_type": "execute_result"
    }
   ],
   "source": [
    "book_learn.get_preds(dl=[(tensor([[269, 4839], [217, 2498]], device='cuda:0'), tensor([[4], [4]], device='cuda:0'))])"
   ]
  },
  {
   "cell_type": "code",
   "execution_count": 133,
   "metadata": {},
   "outputs": [
    {
     "data": {
      "text/plain": [
       "['Harry Potter and the Deathly Hallows',\n",
       " 'Divergent',\n",
       " 'To Kill a Mockingbird',\n",
       " 'The Great Gatsby',\n",
       " 'Twilight']"
      ]
     },
     "execution_count": 133,
     "metadata": {},
     "output_type": "execute_result"
    }
   ],
   "source": [
    "def item_similarities(title, dls, emdb):\n",
    "    book_index = dls.classes[\"title\"].o2i[title]\n",
    "    distance = nn.CosineSimilarity(dim=1)(emdb, emdb[book_index][None])\n",
    "    index = distance.argsort(descending=True)[1:6]\n",
    "    return list(dls.classes[\"title\"][index])\n",
    "\n",
    "item_similarities(\"The Hunger Games\", book_dls, book_book_embd)"
   ]
  },
  {
   "cell_type": "code",
   "execution_count": 134,
   "metadata": {},
   "outputs": [
    {
     "data": {
      "text/plain": [
       "[392, 445, 160, 521, 33]"
      ]
     },
     "execution_count": 134,
     "metadata": {},
     "output_type": "execute_result"
    }
   ],
   "source": [
    "def user_user_similarities(user_id, embd, dls):\n",
    "    user_index = movie_dls.classes[\"user_id\"].o2i[user_id]\n",
    "    distance = nn.CosineSimilarity(dim=1)(embd, embd[user_index][None])\n",
    "    index = distance.argsort(descending=True)[1:6]\n",
    "    return list(dls.classes[\"user_id\"][index])\n",
    "\n",
    "user_user_similarities(12, book_user_embd, book_dls)"
   ]
  },
  {
   "cell_type": "code",
   "execution_count": 149,
   "metadata": {},
   "outputs": [
    {
     "data": {
      "text/html": [
       "<div>\n",
       "<style scoped>\n",
       "    .dataframe tbody tr th:only-of-type {\n",
       "        vertical-align: middle;\n",
       "    }\n",
       "\n",
       "    .dataframe tbody tr th {\n",
       "        vertical-align: top;\n",
       "    }\n",
       "\n",
       "    .dataframe thead th {\n",
       "        text-align: right;\n",
       "    }\n",
       "</style>\n",
       "<table border=\"1\" class=\"dataframe\">\n",
       "  <thead>\n",
       "    <tr style=\"text-align: right;\">\n",
       "      <th></th>\n",
       "      <th>user_id</th>\n",
       "      <th>book_id</th>\n",
       "      <th>rating</th>\n",
       "      <th>title</th>\n",
       "    </tr>\n",
       "  </thead>\n",
       "  <tbody>\n",
       "    <tr>\n",
       "      <th>11598</th>\n",
       "      <td>536</td>\n",
       "      <td>7625</td>\n",
       "      <td>4</td>\n",
       "      <td>554</td>\n",
       "    </tr>\n",
       "  </tbody>\n",
       "</table>\n",
       "</div>"
      ],
      "text/plain": [
       "       user_id  book_id  rating  title\n",
       "11598      536     7625       4    554"
      ]
     },
     "execution_count": 149,
     "metadata": {},
     "output_type": "execute_result"
    }
   ],
   "source": [
    "book_dls.items.head(1)"
   ]
  },
  {
   "cell_type": "code",
   "execution_count": 136,
   "metadata": {},
   "outputs": [],
   "source": [
    "def get_user_not_rated(user_id, ratings):\n",
    "    items = set(ratings[\"title\"].unique()) - set(ratings[ratings[\"user_id\"] == user_id][\"title\"].unique())\n",
    "    u_m = list(zip([user_id] * len(items), items))\n",
    "    return torch.tensor(u_m, device=\"cuda:0\"), torch.zeros(len(items), 1, device=\"cuda:0\")"
   ]
  },
  {
   "cell_type": "code",
   "execution_count": 137,
   "metadata": {},
   "outputs": [
    {
     "data": {
      "text/html": [],
      "text/plain": [
       "<IPython.core.display.HTML object>"
      ]
     },
     "metadata": {},
     "output_type": "display_data"
    },
    {
     "data": {
      "text/plain": [
       "2105                                                       This Man Confessed\n",
       "2464                                                   Stumbling on Happiness\n",
       "4994                                                             Patient Zero\n",
       "7442    Short Stories from Hogwarts of Power, Politics and Pesky Poltergeists\n",
       "7522                             Hogwarts: An Incomplete and Unreliable Guide\n",
       "Name: title, dtype: object"
      ]
     },
     "execution_count": 137,
     "metadata": {},
     "output_type": "execute_result"
    }
   ],
   "source": [
    "def rec_item_for_user(user_id, learned, ratings, dataset, search=\"book_id\"):\n",
    "    user_item, user_rate = get_user_not_rated(user_id, ratings)\n",
    "    preds, _ = learned.get_preds(dl=[(user_item, user_rate)])\n",
    "    title_preds = list(zip(user_item[:, 1].tolist(), preds.tolist()))\n",
    "    title_preds = sorted(title_preds, key=lambda x: x[1], reverse=True)\n",
    "    found = [title_id[0] for title_id in title_preds[:5]]\n",
    "    found = ratings[ratings[\"title\"].isin(found)][search].unique()\n",
    "    if search == \"book_id\":\n",
    "        search = \"id\"\n",
    "    return dataset[dataset[search].isin(found)][\"title\"]\n",
    "\n",
    "rec_item_for_user(1, book_learn, book_dls.items, book_dataset)"
   ]
  },
  {
   "cell_type": "markdown",
   "metadata": {},
   "source": [
    "# fastai - movies"
   ]
  },
  {
   "cell_type": "code",
   "execution_count": 99,
   "metadata": {},
   "outputs": [
    {
     "name": "stdout",
     "output_type": "stream",
     "text": [
      "(45843, 2)\n"
     ]
    },
    {
     "data": {
      "text/html": [
       "<div>\n",
       "<style scoped>\n",
       "    .dataframe tbody tr th:only-of-type {\n",
       "        vertical-align: middle;\n",
       "    }\n",
       "\n",
       "    .dataframe tbody tr th {\n",
       "        vertical-align: top;\n",
       "    }\n",
       "\n",
       "    .dataframe thead th {\n",
       "        text-align: right;\n",
       "    }\n",
       "</style>\n",
       "<table border=\"1\" class=\"dataframe\">\n",
       "  <thead>\n",
       "    <tr style=\"text-align: right;\">\n",
       "      <th></th>\n",
       "      <th>movie_id</th>\n",
       "      <th>imdb_id</th>\n",
       "    </tr>\n",
       "  </thead>\n",
       "  <tbody>\n",
       "    <tr>\n",
       "      <th>0</th>\n",
       "      <td>1</td>\n",
       "      <td>tt0114709</td>\n",
       "    </tr>\n",
       "    <tr>\n",
       "      <th>1</th>\n",
       "      <td>2</td>\n",
       "      <td>tt0113497</td>\n",
       "    </tr>\n",
       "  </tbody>\n",
       "</table>\n",
       "</div>"
      ],
      "text/plain": [
       "   movie_id    imdb_id\n",
       "0         1  tt0114709\n",
       "1         2  tt0113497"
      ]
     },
     "execution_count": 99,
     "metadata": {},
     "output_type": "execute_result"
    }
   ],
   "source": [
    "movie_dataset = pd.read_csv(\"datasets-site/movies_dataset.csv\")\n",
    "print(movie_dataset.shape)\n",
    "movie_dataset.head(2)\n",
    "\n",
    "movie_ratings = pd.read_csv(\"datasets-movies/dataset-the-movie/ratings_small.csv\")\n",
    "movie_ratings = movie_ratings.rename(columns={'userId': 'user_id', 'movieId': 'movie_id'})\n",
    "print(movie_ratings.shape)\n",
    "movie_ratings.head(2)\n",
    "\n",
    "links = pd.read_csv(\"datasets-movies/dataset-the-movie/links.csv\", usecols=[\"movieId\", \"imdbId\"])\n",
    "links = links.rename(columns={'movieId': 'movie_id', 'imdbId': 'imdb_id'})\n",
    "\n",
    "def clean_imdb_id(x):\n",
    "    x = str(x)\n",
    "    x = \"tt\" + \"0\" * (7 - len(x)) + x\n",
    "    return x\n",
    "links[\"imdb_id\"] = links[\"imdb_id\"].apply(clean_imdb_id)\n",
    "\n",
    "print(links.shape)\n",
    "links.head(2)"
   ]
  },
  {
   "cell_type": "code",
   "execution_count": 27,
   "metadata": {},
   "outputs": [
    {
     "name": "stdout",
     "output_type": "stream",
     "text": [
      "(99765, 5)\n"
     ]
    },
    {
     "data": {
      "text/html": [
       "<div>\n",
       "<style scoped>\n",
       "    .dataframe tbody tr th:only-of-type {\n",
       "        vertical-align: middle;\n",
       "    }\n",
       "\n",
       "    .dataframe tbody tr th {\n",
       "        vertical-align: top;\n",
       "    }\n",
       "\n",
       "    .dataframe thead th {\n",
       "        text-align: right;\n",
       "    }\n",
       "</style>\n",
       "<table border=\"1\" class=\"dataframe\">\n",
       "  <thead>\n",
       "    <tr style=\"text-align: right;\">\n",
       "      <th></th>\n",
       "      <th>user_id</th>\n",
       "      <th>movie_id</th>\n",
       "      <th>rating</th>\n",
       "      <th>timestamp</th>\n",
       "      <th>title</th>\n",
       "    </tr>\n",
       "  </thead>\n",
       "  <tbody>\n",
       "    <tr>\n",
       "      <th>0</th>\n",
       "      <td>1</td>\n",
       "      <td>31</td>\n",
       "      <td>2.5</td>\n",
       "      <td>1260759144</td>\n",
       "      <td>Dangerous Minds</td>\n",
       "    </tr>\n",
       "    <tr>\n",
       "      <th>1</th>\n",
       "      <td>7</td>\n",
       "      <td>31</td>\n",
       "      <td>3.0</td>\n",
       "      <td>851868750</td>\n",
       "      <td>Dangerous Minds</td>\n",
       "    </tr>\n",
       "  </tbody>\n",
       "</table>\n",
       "</div>"
      ],
      "text/plain": [
       "   user_id  movie_id  rating   timestamp            title\n",
       "0        1        31     2.5  1260759144  Dangerous Minds\n",
       "1        7        31     3.0   851868750  Dangerous Minds"
      ]
     },
     "execution_count": 27,
     "metadata": {},
     "output_type": "execute_result"
    }
   ],
   "source": [
    "movie_dataset = movie_dataset.merge(links)\n",
    "print(movie_dataset.shape)\n",
    "movie_dataset.to_csv(\"movie_dataset_with_id.csv\", index=False)\n",
    "\n",
    "movie_ratings = pd.read_csv(\"movies_ratings.csv\")\n",
    "print(movie_ratings.shape)\n",
    "movie_ratings.head(2)"
   ]
  },
  {
   "cell_type": "code",
   "execution_count": 28,
   "metadata": {},
   "outputs": [
    {
     "data": {
      "text/html": [
       "<table border=\"1\" class=\"dataframe\">\n",
       "  <thead>\n",
       "    <tr style=\"text-align: left;\">\n",
       "      <th>epoch</th>\n",
       "      <th>train_loss</th>\n",
       "      <th>valid_loss</th>\n",
       "      <th>time</th>\n",
       "    </tr>\n",
       "  </thead>\n",
       "  <tbody>\n",
       "    <tr>\n",
       "      <td>0</td>\n",
       "      <td>0.913022</td>\n",
       "      <td>0.885270</td>\n",
       "      <td>00:13</td>\n",
       "    </tr>\n",
       "  </tbody>\n",
       "</table>"
      ],
      "text/plain": [
       "<IPython.core.display.HTML object>"
      ]
     },
     "metadata": {},
     "output_type": "display_data"
    },
    {
     "data": {
      "text/html": [
       "<table border=\"1\" class=\"dataframe\">\n",
       "  <thead>\n",
       "    <tr style=\"text-align: left;\">\n",
       "      <th>epoch</th>\n",
       "      <th>train_loss</th>\n",
       "      <th>valid_loss</th>\n",
       "      <th>time</th>\n",
       "    </tr>\n",
       "  </thead>\n",
       "  <tbody>\n",
       "    <tr>\n",
       "      <td>0</td>\n",
       "      <td>0.795705</td>\n",
       "      <td>0.836336</td>\n",
       "      <td>00:12</td>\n",
       "    </tr>\n",
       "    <tr>\n",
       "      <td>1</td>\n",
       "      <td>0.751556</td>\n",
       "      <td>0.792403</td>\n",
       "      <td>00:13</td>\n",
       "    </tr>\n",
       "    <tr>\n",
       "      <td>2</td>\n",
       "      <td>0.683684</td>\n",
       "      <td>0.775082</td>\n",
       "      <td>00:13</td>\n",
       "    </tr>\n",
       "    <tr>\n",
       "      <td>3</td>\n",
       "      <td>0.624419</td>\n",
       "      <td>0.767629</td>\n",
       "      <td>00:13</td>\n",
       "    </tr>\n",
       "    <tr>\n",
       "      <td>4</td>\n",
       "      <td>0.592811</td>\n",
       "      <td>0.765430</td>\n",
       "      <td>00:14</td>\n",
       "    </tr>\n",
       "    <tr>\n",
       "      <td>5</td>\n",
       "      <td>0.571576</td>\n",
       "      <td>0.765258</td>\n",
       "      <td>00:14</td>\n",
       "    </tr>\n",
       "  </tbody>\n",
       "</table>"
      ],
      "text/plain": [
       "<IPython.core.display.HTML object>"
      ]
     },
     "metadata": {},
     "output_type": "display_data"
    }
   ],
   "source": [
    "movie_dls = CollabDataLoaders.from_df(movie_ratings, item_name='title', seed=1)\n",
    "movie_learn = collab_learner(movie_dls, y_range=(0.5, 5.5))\n",
    "movie_learn.fine_tune(6, wd=0.1)"
   ]
  },
  {
   "cell_type": "code",
   "execution_count": 144,
   "metadata": {},
   "outputs": [
    {
     "data": {
      "text/html": [],
      "text/plain": [
       "<IPython.core.display.HTML object>"
      ]
     },
     "metadata": {},
     "output_type": "display_data"
    },
    {
     "data": {
      "text/html": [
       "<table border=\"1\" class=\"dataframe\">\n",
       "  <thead>\n",
       "    <tr style=\"text-align: right;\">\n",
       "      <th></th>\n",
       "      <th>user_id</th>\n",
       "      <th>title</th>\n",
       "      <th>rating</th>\n",
       "      <th>rating_pred</th>\n",
       "    </tr>\n",
       "  </thead>\n",
       "  <tbody>\n",
       "    <tr>\n",
       "      <th>0</th>\n",
       "      <td>4.0</td>\n",
       "      <td>2639.0</td>\n",
       "      <td>4.0</td>\n",
       "      <td>3.990846</td>\n",
       "    </tr>\n",
       "    <tr>\n",
       "      <th>1</th>\n",
       "      <td>178.0</td>\n",
       "      <td>8405.0</td>\n",
       "      <td>3.5</td>\n",
       "      <td>3.436476</td>\n",
       "    </tr>\n",
       "    <tr>\n",
       "      <th>2</th>\n",
       "      <td>386.0</td>\n",
       "      <td>5826.0</td>\n",
       "      <td>1.0</td>\n",
       "      <td>2.451004</td>\n",
       "    </tr>\n",
       "  </tbody>\n",
       "</table>"
      ],
      "text/plain": [
       "<IPython.core.display.HTML object>"
      ]
     },
     "metadata": {},
     "output_type": "display_data"
    }
   ],
   "source": [
    "movie_user_embd = movie_learn.model.u_weight.weight\n",
    "movie_user_bais = movie_learn.model.u_bias.weight\n",
    "movie_movie_embd = movie_learn.model.i_weight.weight\n",
    "movie_movie_bais = movie_learn.model.i_bias.weight\n",
    "\n",
    "movie_learn.show_results(max_n=3)"
   ]
  },
  {
   "cell_type": "code",
   "execution_count": 138,
   "metadata": {},
   "outputs": [
    {
     "data": {
      "text/plain": [
       "['The Wrestler',\n",
       " 'The Good, the Bad and the Ugly',\n",
       " 'Princess Mononoke',\n",
       " 'Voices from the List',\n",
       " 'Three Colors: White']"
      ]
     },
     "execution_count": 138,
     "metadata": {},
     "output_type": "execute_result"
    }
   ],
   "source": [
    "item_similarities(\"Pulp Fiction\", movie_dls, movie_movie_embd)"
   ]
  },
  {
   "cell_type": "code",
   "execution_count": 139,
   "metadata": {},
   "outputs": [
    {
     "data": {
      "text/plain": [
       "[84, 553, 308, 325, 418]"
      ]
     },
     "execution_count": 139,
     "metadata": {},
     "output_type": "execute_result"
    }
   ],
   "source": [
    "user_user_similarities(12, movie_user_embd, movie_dls)"
   ]
  },
  {
   "cell_type": "code",
   "execution_count": 140,
   "metadata": {},
   "outputs": [
    {
     "data": {
      "text/html": [],
      "text/plain": [
       "<IPython.core.display.HTML object>"
      ]
     },
     "metadata": {},
     "output_type": "display_data"
    },
    {
     "data": {
      "text/plain": [
       "178     Mighty Morphin Power Rangers: The Movie\n",
       "414                     The Beverly Hillbillies\n",
       "1337                                   Jaws 3-D\n",
       "1433                                   Anaconda\n",
       "3463                          Battlefield Earth\n",
       "Name: title, dtype: object"
      ]
     },
     "execution_count": 140,
     "metadata": {},
     "output_type": "execute_result"
    }
   ],
   "source": [
    "rec_item_for_user(1, movie_learn, movie_dls.items, movie_dataset, search=\"movie_id\")"
   ]
  },
  {
   "cell_type": "markdown",
   "metadata": {},
   "source": [
    "# pca - books"
   ]
  },
  {
   "cell_type": "code",
   "execution_count": 168,
   "metadata": {},
   "outputs": [],
   "source": [
    "def dataset_pca(item_ratings, learned, embd):\n",
    "    g = item_ratings.groupby('title')['rating'].count()\n",
    "    top_items = g.sort_values(ascending=False).index.values[:1000]\n",
    "    top_idxs = tensor([learned.dls.classes['title'].o2i[i] for i in top_items])\n",
    "    item_w = embd[top_idxs].cpu().detach()\n",
    "    item_pca = item_w.pca(3)\n",
    "    fac0, fac1, fac2 = item_pca.t()\n",
    "    idxs = np.random.choice(len(top_items), 50, replace=False)\n",
    "    idxs = list(range(50))\n",
    "    X = fac0[idxs]\n",
    "    Y = fac2[idxs]\n",
    "    plt.figure(figsize=(12, 12))\n",
    "    plt.scatter(X, Y)\n",
    "    for i, x, y in zip(top_items[idxs], X, Y):\n",
    "        plt.text(x, y, i, color=np.random.rand(3) * 0.7, fontsize=11)\n",
    "    plt.show()\n",
    "    \n",
    "dataset_pca(book_ratings, book_learn, book_book_embd)"
   ]
  },
  {
   "cell_type": "markdown",
   "metadata": {},
   "source": [
    "# tfidf - books"
   ]
  },
  {
   "cell_type": "code",
   "execution_count": null,
   "metadata": {},
   "outputs": [],
   "source": [
    "book_dataset = pd.read_csv(\"datasets-site/books_dataset.csv\")\n",
    "print(book_dataset.shape)\n",
    "book_dataset.head(1)\n",
    "\n",
    "features = [\"authors\", \"title\", \"clean_description\", \"categories\"]\n",
    "for feature in features:\n",
    "    book_dataset[feature] = book_dataset[feature].apply(lambda x: str(x))\n",
    "\n",
    "def create_soup(x):\n",
    "    return x['authors'] + ' ' + x['title'] + ' ' + x['clean_description'] + ' ' + x['categories']\n",
    "\n",
    "book_dataset['soup'] = book_dataset.apply(create_soup, axis=1)\n",
    "book_dataset['soup'][0]"
   ]
  },
  {
   "cell_type": "code",
   "execution_count": 62,
   "metadata": {},
   "outputs": [],
   "source": [
    "book_tf = TfidfVectorizer(analyzer=\"word\", ngram_range=(1, 2), min_df=0, stop_words='english')\n",
    "book_tfidf_matrix = book_tf.fit_transform(book_dataset['soup'])\n",
    "book_cosine = cosine_similarity(book_tfidf_matrix, book_tfidf_matrix)"
   ]
  },
  {
   "cell_type": "code",
   "execution_count": 96,
   "metadata": {},
   "outputs": [],
   "source": [
    "def get_recommendations(title, dataset, cosine):\n",
    "    item_index = dataset[dataset[\"title\"] == title].index[0]\n",
    "    similar_items = list(enumerate(cosine[item_index]))\n",
    "    sorted_items = sorted(similar_items, key=lambda x: x[1], reverse=True)\n",
    "    print(\"{:>1} {:>40} \\t {:>15}\".format(\"Index:\", \"Title:\", \"Similarity:\"))\n",
    "    for i, item in enumerate(sorted_items[1:6]):\n",
    "        title = dataset.iloc[item[0]][\"title\"]\n",
    "        similarity = item[1]\n",
    "        print(\"{:>5}: {:>40} \\t {:>15.4f}\".format(i + 1, title, similarity))"
   ]
  },
  {
   "cell_type": "code",
   "execution_count": 97,
   "metadata": {},
   "outputs": [
    {
     "name": "stdout",
     "output_type": "stream",
     "text": [
      "Index:                                   Title: \t     Similarity:\n",
      "    1: Harry Potter and the Order of the Phoenix \t          0.4955\n",
      "    2:  Harry Potter and the Philosophers Stone \t          0.4677\n",
      "    3:      Harry Potter and the Goblet of Fire \t          0.4570\n",
      "    4:   Harry Potter and the Half-Blood Prince \t          0.4432\n",
      "    5: Harry Potter and the Prisoner of Azkaban \t          0.3690\n"
     ]
    }
   ],
   "source": [
    "get_recommendations(\"Harry Potter and the Deathly Hallows\", book_dataset, book_cosine)"
   ]
  },
  {
   "cell_type": "markdown",
   "metadata": {},
   "source": [
    "# tfidf - movies"
   ]
  },
  {
   "cell_type": "code",
   "execution_count": null,
   "metadata": {},
   "outputs": [],
   "source": [
    "movie_dataset = pd.read_csv(\"datasets-site/movies_dataset.csv\")\n",
    "movie_dataset = movie_dataset.fillna('')\n",
    "print(movie_dataset.shape) # (45433, 7)\n",
    "movie_dataset.head(1)"
   ]
  },
  {
   "cell_type": "code",
   "execution_count": 72,
   "metadata": {},
   "outputs": [
    {
     "data": {
      "text/plain": [
       "'john lasseter toy story led woody andys toys live happily room andys birthday brings buzz lightyear onto scene afraid losing place andys heart woody plots buzz circumstances separate buzz woody owner duo eventually learns put aside differences animation, comedy, family tom hanks, tim allen, don rickles jealousy toy boy '"
      ]
     },
     "execution_count": 72,
     "metadata": {},
     "output_type": "execute_result"
    }
   ],
   "source": [
    "stop_words = set(stopwords.words('english'))\n",
    "def clean_data(x):\n",
    "    x = str(x)\n",
    "    word_tokens = word_tokenize(x)\n",
    "    filtered_sentence = [w.lower() for w in word_tokens if w.isalpha() and w.lower() not in stop_words]\n",
    "    return \" \".join(filtered_sentence)\n",
    "\n",
    "features = [\"overview\", \"keywords\", \"tagline\"]\n",
    "for feature in features:\n",
    "    movie_dataset[feature] = movie_dataset[feature].apply(clean_data)\n",
    "\n",
    "def create_soup(x):\n",
    "    return x['director'].lower() + ' ' + x['title'].lower() + ' ' + x['overview'] + ' ' + x['genres'].lower() + \\\n",
    "            ' ' + x['cast'].lower() + ' ' + x['keywords'] + ' ' + x['tagline']\n",
    "\n",
    "movie_dataset['soup'] = movie_dataset.apply(create_soup, axis=1)\n",
    "movie_dataset['soup'][0]"
   ]
  },
  {
   "cell_type": "code",
   "execution_count": 76,
   "metadata": {},
   "outputs": [],
   "source": [
    "movie_tf = TfidfVectorizer(analyzer=\"word\", ngram_range=(1, 2), min_df=0, stop_words='english')\n",
    "movie_tfidf_matrix = movie_tf.fit_transform(movie_dataset['soup'][:10000])\n",
    "movie_cosine = cosine_similarity(movie_tfidf_matrix, movie_tfidf_matrix)"
   ]
  },
  {
   "cell_type": "code",
   "execution_count": 98,
   "metadata": {},
   "outputs": [
    {
     "name": "stdout",
     "output_type": "stream",
     "text": [
      "Index:                                   Title: \t     Similarity:\n",
      "    1:                                   Prison \t          0.0621\n",
      "    2:                                 Brubaker \t          0.0620\n",
      "    3:                              Bob Roberts \t          0.0570\n",
      "    4:                          Johnny Handsome \t          0.0547\n",
      "    5:                 Night Falls on Manhattan \t          0.0530\n"
     ]
    }
   ],
   "source": [
    "get_recommendations(\"The Shawshank Redemption\", movie_dataset, movie_cosine)"
   ]
  }
 ],
 "metadata": {
  "kernelspec": {
   "display_name": "Python 3",
   "language": "python",
   "name": "python3"
  },
  "language_info": {
   "codemirror_mode": {
    "name": "ipython",
    "version": 3
   },
   "file_extension": ".py",
   "mimetype": "text/x-python",
   "name": "python",
   "nbconvert_exporter": "python",
   "pygments_lexer": "ipython3",
   "version": "3.8.3"
  }
 },
 "nbformat": 4,
 "nbformat_minor": 4
}
